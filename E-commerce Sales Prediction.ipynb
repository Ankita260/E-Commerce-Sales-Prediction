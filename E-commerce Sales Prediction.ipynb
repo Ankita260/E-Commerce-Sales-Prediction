{
 "cells": [
  {
   "cell_type": "code",
   "execution_count": 1,
   "metadata": {},
   "outputs": [],
   "source": [
    "import pandas as pd\n",
    "import numpy as np\n",
    "import matplotlib.pyplot as plt\n",
    "import seaborn as sns\n",
    "from scipy import stats\n",
    "from sklearn.linear_model import LinearRegression\n",
    "from sklearn.metrics import mean_squared_error\n",
    "from sklearn.model_selection import train_test_split"
   ]
  },
  {
   "cell_type": "code",
   "execution_count": 2,
   "metadata": {},
   "outputs": [],
   "source": [
    "url = 'https://archive.ics.uci.edu/ml/machine-learning-databases/00352/Online%20Retail.xlsx'\n",
    "df = pd.read_excel(url)"
   ]
  },
  {
   "cell_type": "code",
   "execution_count": 3,
   "metadata": {},
   "outputs": [
    {
     "data": {
      "text/html": [
       "<div>\n",
       "<style scoped>\n",
       "    .dataframe tbody tr th:only-of-type {\n",
       "        vertical-align: middle;\n",
       "    }\n",
       "\n",
       "    .dataframe tbody tr th {\n",
       "        vertical-align: top;\n",
       "    }\n",
       "\n",
       "    .dataframe thead th {\n",
       "        text-align: right;\n",
       "    }\n",
       "</style>\n",
       "<table border=\"1\" class=\"dataframe\">\n",
       "  <thead>\n",
       "    <tr style=\"text-align: right;\">\n",
       "      <th></th>\n",
       "      <th>InvoiceNo</th>\n",
       "      <th>StockCode</th>\n",
       "      <th>Description</th>\n",
       "      <th>Quantity</th>\n",
       "      <th>InvoiceDate</th>\n",
       "      <th>UnitPrice</th>\n",
       "      <th>CustomerID</th>\n",
       "      <th>Country</th>\n",
       "    </tr>\n",
       "  </thead>\n",
       "  <tbody>\n",
       "    <tr>\n",
       "      <th>0</th>\n",
       "      <td>536365</td>\n",
       "      <td>85123A</td>\n",
       "      <td>WHITE HANGING HEART T-LIGHT HOLDER</td>\n",
       "      <td>6</td>\n",
       "      <td>2010-12-01 08:26:00</td>\n",
       "      <td>2.55</td>\n",
       "      <td>17850.0</td>\n",
       "      <td>United Kingdom</td>\n",
       "    </tr>\n",
       "    <tr>\n",
       "      <th>1</th>\n",
       "      <td>536365</td>\n",
       "      <td>71053</td>\n",
       "      <td>WHITE METAL LANTERN</td>\n",
       "      <td>6</td>\n",
       "      <td>2010-12-01 08:26:00</td>\n",
       "      <td>3.39</td>\n",
       "      <td>17850.0</td>\n",
       "      <td>United Kingdom</td>\n",
       "    </tr>\n",
       "    <tr>\n",
       "      <th>2</th>\n",
       "      <td>536365</td>\n",
       "      <td>84406B</td>\n",
       "      <td>CREAM CUPID HEARTS COAT HANGER</td>\n",
       "      <td>8</td>\n",
       "      <td>2010-12-01 08:26:00</td>\n",
       "      <td>2.75</td>\n",
       "      <td>17850.0</td>\n",
       "      <td>United Kingdom</td>\n",
       "    </tr>\n",
       "    <tr>\n",
       "      <th>3</th>\n",
       "      <td>536365</td>\n",
       "      <td>84029G</td>\n",
       "      <td>KNITTED UNION FLAG HOT WATER BOTTLE</td>\n",
       "      <td>6</td>\n",
       "      <td>2010-12-01 08:26:00</td>\n",
       "      <td>3.39</td>\n",
       "      <td>17850.0</td>\n",
       "      <td>United Kingdom</td>\n",
       "    </tr>\n",
       "    <tr>\n",
       "      <th>4</th>\n",
       "      <td>536365</td>\n",
       "      <td>84029E</td>\n",
       "      <td>RED WOOLLY HOTTIE WHITE HEART.</td>\n",
       "      <td>6</td>\n",
       "      <td>2010-12-01 08:26:00</td>\n",
       "      <td>3.39</td>\n",
       "      <td>17850.0</td>\n",
       "      <td>United Kingdom</td>\n",
       "    </tr>\n",
       "  </tbody>\n",
       "</table>\n",
       "</div>"
      ],
      "text/plain": [
       "  InvoiceNo StockCode                          Description  Quantity  \\\n",
       "0    536365    85123A   WHITE HANGING HEART T-LIGHT HOLDER         6   \n",
       "1    536365     71053                  WHITE METAL LANTERN         6   \n",
       "2    536365    84406B       CREAM CUPID HEARTS COAT HANGER         8   \n",
       "3    536365    84029G  KNITTED UNION FLAG HOT WATER BOTTLE         6   \n",
       "4    536365    84029E       RED WOOLLY HOTTIE WHITE HEART.         6   \n",
       "\n",
       "          InvoiceDate  UnitPrice  CustomerID         Country  \n",
       "0 2010-12-01 08:26:00       2.55     17850.0  United Kingdom  \n",
       "1 2010-12-01 08:26:00       3.39     17850.0  United Kingdom  \n",
       "2 2010-12-01 08:26:00       2.75     17850.0  United Kingdom  \n",
       "3 2010-12-01 08:26:00       3.39     17850.0  United Kingdom  \n",
       "4 2010-12-01 08:26:00       3.39     17850.0  United Kingdom  "
      ]
     },
     "execution_count": 3,
     "metadata": {},
     "output_type": "execute_result"
    }
   ],
   "source": [
    "df.head()"
   ]
  },
  {
   "cell_type": "code",
   "execution_count": 4,
   "metadata": {},
   "outputs": [
    {
     "data": {
      "text/plain": [
       "(541909, 8)"
      ]
     },
     "execution_count": 4,
     "metadata": {},
     "output_type": "execute_result"
    }
   ],
   "source": [
    "df.shape"
   ]
  },
  {
   "cell_type": "code",
   "execution_count": 5,
   "metadata": {},
   "outputs": [
    {
     "data": {
      "text/plain": [
       "InvoiceNo           0\n",
       "StockCode           0\n",
       "Description      1454\n",
       "Quantity            0\n",
       "InvoiceDate         0\n",
       "UnitPrice           0\n",
       "CustomerID     135080\n",
       "Country             0\n",
       "dtype: int64"
      ]
     },
     "execution_count": 5,
     "metadata": {},
     "output_type": "execute_result"
    }
   ],
   "source": [
    "df.isnull().sum()"
   ]
  },
  {
   "cell_type": "code",
   "execution_count": 6,
   "metadata": {},
   "outputs": [],
   "source": [
    "# Delete rows with missing CustomerID\n",
    "df = df.drop(df[df['CustomerID'].isnull()].index).reset_index(drop=True)"
   ]
  },
  {
   "cell_type": "code",
   "execution_count": 7,
   "metadata": {},
   "outputs": [
    {
     "name": "stdout",
     "output_type": "stream",
     "text": [
      "<class 'pandas.core.frame.DataFrame'>\n",
      "RangeIndex: 406829 entries, 0 to 406828\n",
      "Data columns (total 8 columns):\n",
      " #   Column       Non-Null Count   Dtype         \n",
      "---  ------       --------------   -----         \n",
      " 0   InvoiceNo    406829 non-null  object        \n",
      " 1   StockCode    406829 non-null  object        \n",
      " 2   Description  406829 non-null  object        \n",
      " 3   Quantity     406829 non-null  int64         \n",
      " 4   InvoiceDate  406829 non-null  datetime64[ns]\n",
      " 5   UnitPrice    406829 non-null  float64       \n",
      " 6   CustomerID   406829 non-null  float64       \n",
      " 7   Country      406829 non-null  object        \n",
      "dtypes: datetime64[ns](1), float64(2), int64(1), object(4)\n",
      "memory usage: 24.8+ MB\n"
     ]
    }
   ],
   "source": [
    "df.info()"
   ]
  },
  {
   "cell_type": "code",
   "execution_count": 8,
   "metadata": {},
   "outputs": [],
   "source": [
    "from sklearn import preprocessing\n",
    "from sklearn.preprocessing import LabelEncoder\n",
    "from sklearn import utils\n",
    "labelencoder = LabelEncoder()"
   ]
  },
  {
   "cell_type": "code",
   "execution_count": 9,
   "metadata": {},
   "outputs": [],
   "source": [
    "df['InvoiceNo'] = df['InvoiceNo'].astype(str)\n",
    "df['StockCode'] = df['StockCode'].astype(str)\n",
    "df['Description'] = df['Description'].astype(str)\n",
    "df['Description'] = df['Description'].str.strip()\n",
    "df['CustomerID'] = df['CustomerID'].astype(int)"
   ]
  },
  {
   "cell_type": "code",
   "execution_count": 10,
   "metadata": {},
   "outputs": [],
   "source": [
    "df['InvoiceNo'] = labelencoder.fit_transform(df['InvoiceNo'])\n"
   ]
  },
  {
   "cell_type": "code",
   "execution_count": 11,
   "metadata": {},
   "outputs": [
    {
     "data": {
      "text/html": [
       "<div>\n",
       "<style scoped>\n",
       "    .dataframe tbody tr th:only-of-type {\n",
       "        vertical-align: middle;\n",
       "    }\n",
       "\n",
       "    .dataframe tbody tr th {\n",
       "        vertical-align: top;\n",
       "    }\n",
       "\n",
       "    .dataframe thead th {\n",
       "        text-align: right;\n",
       "    }\n",
       "</style>\n",
       "<table border=\"1\" class=\"dataframe\">\n",
       "  <thead>\n",
       "    <tr style=\"text-align: right;\">\n",
       "      <th></th>\n",
       "      <th>StockCode</th>\n",
       "      <th>Description</th>\n",
       "    </tr>\n",
       "  </thead>\n",
       "  <tbody>\n",
       "    <tr>\n",
       "      <th>42</th>\n",
       "      <td>16156L</td>\n",
       "      <td>WRAP CAROUSEL</td>\n",
       "    </tr>\n",
       "    <tr>\n",
       "      <th>43</th>\n",
       "      <td>16156L</td>\n",
       "      <td>WRAP, CAROUSEL</td>\n",
       "    </tr>\n",
       "    <tr>\n",
       "      <th>101</th>\n",
       "      <td>17107D</td>\n",
       "      <td>FLOWER FAIRY 5 DRAWER LINERS</td>\n",
       "    </tr>\n",
       "    <tr>\n",
       "      <th>102</th>\n",
       "      <td>17107D</td>\n",
       "      <td>FLOWER FAIRY 5 SUMMER DRAW LINERS</td>\n",
       "    </tr>\n",
       "    <tr>\n",
       "      <th>103</th>\n",
       "      <td>17107D</td>\n",
       "      <td>FLOWER FAIRY,5 SUMMER B'DRAW LINERS</td>\n",
       "    </tr>\n",
       "    <tr>\n",
       "      <th>121</th>\n",
       "      <td>20622</td>\n",
       "      <td>VIP PASSPORT COVER</td>\n",
       "    </tr>\n",
       "    <tr>\n",
       "      <th>122</th>\n",
       "      <td>20622</td>\n",
       "      <td>VIPPASSPORT COVER</td>\n",
       "    </tr>\n",
       "    <tr>\n",
       "      <th>174</th>\n",
       "      <td>20725</td>\n",
       "      <td>LUNCH BAG RED RETROSPOT</td>\n",
       "    </tr>\n",
       "    <tr>\n",
       "      <th>175</th>\n",
       "      <td>20725</td>\n",
       "      <td>LUNCH BAG RED SPOTTY</td>\n",
       "    </tr>\n",
       "    <tr>\n",
       "      <th>267</th>\n",
       "      <td>20914</td>\n",
       "      <td>SET/5 RED RETROSPOT LID GLASS BOWLS</td>\n",
       "    </tr>\n",
       "  </tbody>\n",
       "</table>\n",
       "</div>"
      ],
      "text/plain": [
       "    StockCode                          Description\n",
       "42     16156L                        WRAP CAROUSEL\n",
       "43     16156L                       WRAP, CAROUSEL\n",
       "101    17107D         FLOWER FAIRY 5 DRAWER LINERS\n",
       "102    17107D    FLOWER FAIRY 5 SUMMER DRAW LINERS\n",
       "103    17107D  FLOWER FAIRY,5 SUMMER B'DRAW LINERS\n",
       "121     20622                   VIP PASSPORT COVER\n",
       "122     20622                    VIPPASSPORT COVER\n",
       "174     20725              LUNCH BAG RED RETROSPOT\n",
       "175     20725                 LUNCH BAG RED SPOTTY\n",
       "267     20914  SET/5 RED RETROSPOT LID GLASS BOWLS"
      ]
     },
     "execution_count": 11,
     "metadata": {},
     "output_type": "execute_result"
    }
   ],
   "source": [
    "# Check duplicates values \n",
    "products = df.groupby(['StockCode','Description'],as_index=False).count()\n",
    "products = products.loc[:,['StockCode','Description']]\n",
    "stockCount = products.StockCode.value_counts().to_frame()\n",
    "stockList = list(stockCount[stockCount.StockCode>1].index) #List of stockCode with more than 1 Description\n",
    "products[products.StockCode.isin(stockList)].head(10)"
   ]
  },
  {
   "cell_type": "code",
   "execution_count": 12,
   "metadata": {},
   "outputs": [
    {
     "data": {
      "text/html": [
       "<div>\n",
       "<style scoped>\n",
       "    .dataframe tbody tr th:only-of-type {\n",
       "        vertical-align: middle;\n",
       "    }\n",
       "\n",
       "    .dataframe tbody tr th {\n",
       "        vertical-align: top;\n",
       "    }\n",
       "\n",
       "    .dataframe thead th {\n",
       "        text-align: right;\n",
       "    }\n",
       "</style>\n",
       "<table border=\"1\" class=\"dataframe\">\n",
       "  <thead>\n",
       "    <tr style=\"text-align: right;\">\n",
       "      <th></th>\n",
       "      <th>InvoiceNo</th>\n",
       "      <th>StockCode</th>\n",
       "      <th>Description</th>\n",
       "      <th>Quantity</th>\n",
       "      <th>InvoiceDate</th>\n",
       "      <th>UnitPrice</th>\n",
       "      <th>CustomerID</th>\n",
       "      <th>Country</th>\n",
       "    </tr>\n",
       "  </thead>\n",
       "  <tbody>\n",
       "    <tr>\n",
       "      <th>0</th>\n",
       "      <td>0</td>\n",
       "      <td>85123A</td>\n",
       "      <td>WHITE HANGING HEART T-LIGHT HOLDER</td>\n",
       "      <td>6</td>\n",
       "      <td>2010-12-01 08:26:00</td>\n",
       "      <td>2.55</td>\n",
       "      <td>17850</td>\n",
       "      <td>United Kingdom</td>\n",
       "    </tr>\n",
       "    <tr>\n",
       "      <th>1</th>\n",
       "      <td>0</td>\n",
       "      <td>71053</td>\n",
       "      <td>WHITE METAL LANTERN</td>\n",
       "      <td>6</td>\n",
       "      <td>2010-12-01 08:26:00</td>\n",
       "      <td>3.39</td>\n",
       "      <td>17850</td>\n",
       "      <td>United Kingdom</td>\n",
       "    </tr>\n",
       "    <tr>\n",
       "      <th>2</th>\n",
       "      <td>0</td>\n",
       "      <td>84406B</td>\n",
       "      <td>CREAM CUPID HEARTS COAT HANGER</td>\n",
       "      <td>8</td>\n",
       "      <td>2010-12-01 08:26:00</td>\n",
       "      <td>2.75</td>\n",
       "      <td>17850</td>\n",
       "      <td>United Kingdom</td>\n",
       "    </tr>\n",
       "    <tr>\n",
       "      <th>3</th>\n",
       "      <td>0</td>\n",
       "      <td>84029G</td>\n",
       "      <td>KNITTED UNION FLAG HOT WATER BOTTLE</td>\n",
       "      <td>6</td>\n",
       "      <td>2010-12-01 08:26:00</td>\n",
       "      <td>3.39</td>\n",
       "      <td>17850</td>\n",
       "      <td>United Kingdom</td>\n",
       "    </tr>\n",
       "    <tr>\n",
       "      <th>4</th>\n",
       "      <td>0</td>\n",
       "      <td>84029E</td>\n",
       "      <td>RED WOOLLY HOTTIE WHITE HEART.</td>\n",
       "      <td>6</td>\n",
       "      <td>2010-12-01 08:26:00</td>\n",
       "      <td>3.39</td>\n",
       "      <td>17850</td>\n",
       "      <td>United Kingdom</td>\n",
       "    </tr>\n",
       "    <tr>\n",
       "      <th>...</th>\n",
       "      <td>...</td>\n",
       "      <td>...</td>\n",
       "      <td>...</td>\n",
       "      <td>...</td>\n",
       "      <td>...</td>\n",
       "      <td>...</td>\n",
       "      <td>...</td>\n",
       "      <td>...</td>\n",
       "    </tr>\n",
       "    <tr>\n",
       "      <th>397681</th>\n",
       "      <td>18143</td>\n",
       "      <td>90214U</td>\n",
       "      <td>LETTER \"U\" BLING KEY RING</td>\n",
       "      <td>12</td>\n",
       "      <td>2011-12-05 15:48:00</td>\n",
       "      <td>0.29</td>\n",
       "      <td>13790</td>\n",
       "      <td>United Kingdom</td>\n",
       "    </tr>\n",
       "    <tr>\n",
       "      <th>397683</th>\n",
       "      <td>18143</td>\n",
       "      <td>90214W</td>\n",
       "      <td>LETTER \"W\" BLING KEY RING</td>\n",
       "      <td>12</td>\n",
       "      <td>2011-12-05 15:48:00</td>\n",
       "      <td>0.29</td>\n",
       "      <td>13790</td>\n",
       "      <td>United Kingdom</td>\n",
       "    </tr>\n",
       "    <tr>\n",
       "      <th>397685</th>\n",
       "      <td>18143</td>\n",
       "      <td>90214Z</td>\n",
       "      <td>LETTER \"Z\" BLING KEY RING</td>\n",
       "      <td>12</td>\n",
       "      <td>2011-12-05 15:48:00</td>\n",
       "      <td>0.29</td>\n",
       "      <td>13790</td>\n",
       "      <td>United Kingdom</td>\n",
       "    </tr>\n",
       "    <tr>\n",
       "      <th>399525</th>\n",
       "      <td>18206</td>\n",
       "      <td>90089</td>\n",
       "      <td>PINK CRYSTAL SKULL PHONE CHARM</td>\n",
       "      <td>12</td>\n",
       "      <td>2011-12-06 11:58:00</td>\n",
       "      <td>0.19</td>\n",
       "      <td>17914</td>\n",
       "      <td>United Kingdom</td>\n",
       "    </tr>\n",
       "    <tr>\n",
       "      <th>406349</th>\n",
       "      <td>18503</td>\n",
       "      <td>23843</td>\n",
       "      <td>PAPER CRAFT , LITTLE BIRDIE</td>\n",
       "      <td>80995</td>\n",
       "      <td>2011-12-09 09:15:00</td>\n",
       "      <td>2.08</td>\n",
       "      <td>16446</td>\n",
       "      <td>United Kingdom</td>\n",
       "    </tr>\n",
       "  </tbody>\n",
       "</table>\n",
       "<p>3684 rows × 8 columns</p>\n",
       "</div>"
      ],
      "text/plain": [
       "        InvoiceNo StockCode                          Description  Quantity  \\\n",
       "0               0    85123A   WHITE HANGING HEART T-LIGHT HOLDER         6   \n",
       "1               0     71053                  WHITE METAL LANTERN         6   \n",
       "2               0    84406B       CREAM CUPID HEARTS COAT HANGER         8   \n",
       "3               0    84029G  KNITTED UNION FLAG HOT WATER BOTTLE         6   \n",
       "4               0    84029E       RED WOOLLY HOTTIE WHITE HEART.         6   \n",
       "...           ...       ...                                  ...       ...   \n",
       "397681      18143    90214U            LETTER \"U\" BLING KEY RING        12   \n",
       "397683      18143    90214W            LETTER \"W\" BLING KEY RING        12   \n",
       "397685      18143    90214Z            LETTER \"Z\" BLING KEY RING        12   \n",
       "399525      18206     90089       PINK CRYSTAL SKULL PHONE CHARM        12   \n",
       "406349      18503     23843          PAPER CRAFT , LITTLE BIRDIE     80995   \n",
       "\n",
       "               InvoiceDate  UnitPrice  CustomerID         Country  \n",
       "0      2010-12-01 08:26:00       2.55       17850  United Kingdom  \n",
       "1      2010-12-01 08:26:00       3.39       17850  United Kingdom  \n",
       "2      2010-12-01 08:26:00       2.75       17850  United Kingdom  \n",
       "3      2010-12-01 08:26:00       3.39       17850  United Kingdom  \n",
       "4      2010-12-01 08:26:00       3.39       17850  United Kingdom  \n",
       "...                    ...        ...         ...             ...  \n",
       "397681 2011-12-05 15:48:00       0.29       13790  United Kingdom  \n",
       "397683 2011-12-05 15:48:00       0.29       13790  United Kingdom  \n",
       "397685 2011-12-05 15:48:00       0.29       13790  United Kingdom  \n",
       "399525 2011-12-06 11:58:00       0.19       17914  United Kingdom  \n",
       "406349 2011-12-09 09:15:00       2.08       16446  United Kingdom  \n",
       "\n",
       "[3684 rows x 8 columns]"
      ]
     },
     "execution_count": 12,
     "metadata": {},
     "output_type": "execute_result"
    }
   ],
   "source": [
    "df.drop_duplicates(subset='StockCode',keep='first')"
   ]
  },
  {
   "cell_type": "code",
   "execution_count": 13,
   "metadata": {},
   "outputs": [],
   "source": [
    "df = df.drop(df[(df['StockCode'].str.len())<5].index).reset_index(drop=True)"
   ]
  },
  {
   "cell_type": "code",
   "execution_count": 14,
   "metadata": {},
   "outputs": [
    {
     "data": {
      "text/html": [
       "<div>\n",
       "<style scoped>\n",
       "    .dataframe tbody tr th:only-of-type {\n",
       "        vertical-align: middle;\n",
       "    }\n",
       "\n",
       "    .dataframe tbody tr th {\n",
       "        vertical-align: top;\n",
       "    }\n",
       "\n",
       "    .dataframe thead th {\n",
       "        text-align: right;\n",
       "    }\n",
       "</style>\n",
       "<table border=\"1\" class=\"dataframe\">\n",
       "  <thead>\n",
       "    <tr style=\"text-align: right;\">\n",
       "      <th></th>\n",
       "      <th>InvoiceNo</th>\n",
       "      <th>StockCode</th>\n",
       "      <th>Description</th>\n",
       "      <th>Quantity</th>\n",
       "      <th>InvoiceDate</th>\n",
       "      <th>UnitPrice</th>\n",
       "      <th>CustomerID</th>\n",
       "      <th>Country</th>\n",
       "    </tr>\n",
       "  </thead>\n",
       "  <tbody>\n",
       "    <tr>\n",
       "      <th>152</th>\n",
       "      <td>18537</td>\n",
       "      <td>35004C</td>\n",
       "      <td>SET OF 3 COLOURED  FLYING DUCKS</td>\n",
       "      <td>-1</td>\n",
       "      <td>2010-12-01 09:49:00</td>\n",
       "      <td>4.65</td>\n",
       "      <td>15311</td>\n",
       "      <td>United Kingdom</td>\n",
       "    </tr>\n",
       "    <tr>\n",
       "      <th>233</th>\n",
       "      <td>18538</td>\n",
       "      <td>22556</td>\n",
       "      <td>PLASTERS IN TIN CIRCUS PARADE</td>\n",
       "      <td>-12</td>\n",
       "      <td>2010-12-01 10:24:00</td>\n",
       "      <td>1.65</td>\n",
       "      <td>17548</td>\n",
       "      <td>United Kingdom</td>\n",
       "    </tr>\n",
       "    <tr>\n",
       "      <th>234</th>\n",
       "      <td>18538</td>\n",
       "      <td>21984</td>\n",
       "      <td>PACK OF 12 PINK PAISLEY TISSUES</td>\n",
       "      <td>-24</td>\n",
       "      <td>2010-12-01 10:24:00</td>\n",
       "      <td>0.29</td>\n",
       "      <td>17548</td>\n",
       "      <td>United Kingdom</td>\n",
       "    </tr>\n",
       "    <tr>\n",
       "      <th>235</th>\n",
       "      <td>18538</td>\n",
       "      <td>21983</td>\n",
       "      <td>PACK OF 12 BLUE PAISLEY TISSUES</td>\n",
       "      <td>-24</td>\n",
       "      <td>2010-12-01 10:24:00</td>\n",
       "      <td>0.29</td>\n",
       "      <td>17548</td>\n",
       "      <td>United Kingdom</td>\n",
       "    </tr>\n",
       "    <tr>\n",
       "      <th>236</th>\n",
       "      <td>18538</td>\n",
       "      <td>21980</td>\n",
       "      <td>PACK OF 12 RED RETROSPOT TISSUES</td>\n",
       "      <td>-24</td>\n",
       "      <td>2010-12-01 10:24:00</td>\n",
       "      <td>0.29</td>\n",
       "      <td>17548</td>\n",
       "      <td>United Kingdom</td>\n",
       "    </tr>\n",
       "  </tbody>\n",
       "</table>\n",
       "</div>"
      ],
      "text/plain": [
       "     InvoiceNo StockCode                       Description  Quantity  \\\n",
       "152      18537    35004C   SET OF 3 COLOURED  FLYING DUCKS        -1   \n",
       "233      18538     22556     PLASTERS IN TIN CIRCUS PARADE       -12   \n",
       "234      18538     21984   PACK OF 12 PINK PAISLEY TISSUES       -24   \n",
       "235      18538     21983   PACK OF 12 BLUE PAISLEY TISSUES       -24   \n",
       "236      18538     21980  PACK OF 12 RED RETROSPOT TISSUES       -24   \n",
       "\n",
       "            InvoiceDate  UnitPrice  CustomerID         Country  \n",
       "152 2010-12-01 09:49:00       4.65       15311  United Kingdom  \n",
       "233 2010-12-01 10:24:00       1.65       17548  United Kingdom  \n",
       "234 2010-12-01 10:24:00       0.29       17548  United Kingdom  \n",
       "235 2010-12-01 10:24:00       0.29       17548  United Kingdom  \n",
       "236 2010-12-01 10:24:00       0.29       17548  United Kingdom  "
      ]
     },
     "execution_count": 14,
     "metadata": {},
     "output_type": "execute_result"
    }
   ],
   "source": [
    "df[df['Quantity']< 1].head()"
   ]
  },
  {
   "cell_type": "code",
   "execution_count": 15,
   "metadata": {},
   "outputs": [
    {
     "data": {
      "text/plain": [
       "(404921, 8)"
      ]
     },
     "execution_count": 15,
     "metadata": {},
     "output_type": "execute_result"
    }
   ],
   "source": [
    "df.shape"
   ]
  },
  {
   "cell_type": "code",
   "execution_count": 16,
   "metadata": {},
   "outputs": [],
   "source": [
    "# Add new column \n",
    "df['CancelledOrder'] = df['InvoiceNo'].astype(str).str.startswith('C').astype('int')\n",
    "df['InternationalOrders'] = (df['Country']!='United Kingdom').astype('int')\n",
    "df['Sales'] = df['Quantity']*df['UnitPrice']"
   ]
  },
  {
   "cell_type": "code",
   "execution_count": 17,
   "metadata": {},
   "outputs": [
    {
     "data": {
      "text/plain": [
       "(404921, 11)"
      ]
     },
     "execution_count": 17,
     "metadata": {},
     "output_type": "execute_result"
    }
   ],
   "source": [
    "df.shape"
   ]
  },
  {
   "cell_type": "code",
   "execution_count": 18,
   "metadata": {},
   "outputs": [
    {
     "data": {
      "image/png": "[encoded data removed]",
      "text/plain": [
       "<Figure size 1080x432 with 1 Axes>"
      ]
     },
     "metadata": {
      "needs_background": "light"
     },
     "output_type": "display_data"
    }
   ],
   "source": [
    "\n",
    "Top10products = df.groupby('Description',as_index=False)['Sales'].sum().sort_values('Sales',ascending=False).head(10)\n",
    "ax = Top10products.plot(x=\"Description\",\n",
    "                   y=\"Sales\", \n",
    "                   legend=False,\n",
    "                   kind='bar',\n",
    "                   color=\"green\",\n",
    "                   figsize= (15,6))\n",
    "\n",
    "plt.grid(False)\n",
    "\n",
    "\n",
    "plt.xlabel('Description',fontsize=18)\n",
    "plt.ylabel('Sales', fontsize=18)\n",
    "plt.xticks(fontsize=18)\n",
    "plt.yticks(fontsize=18)\n",
    "plt.title('Top 10 best-selling Product',Fontsize = 18)\n",
    "\n",
    "plt.show()"
   ]
  },
  {
   "cell_type": "code",
   "execution_count": 19,
   "metadata": {},
   "outputs": [
    {
     "data": {
      "text/html": [
       "<div>\n",
       "<style scoped>\n",
       "    .dataframe tbody tr th:only-of-type {\n",
       "        vertical-align: middle;\n",
       "    }\n",
       "\n",
       "    .dataframe tbody tr th {\n",
       "        vertical-align: top;\n",
       "    }\n",
       "\n",
       "    .dataframe thead th {\n",
       "        text-align: right;\n",
       "    }\n",
       "</style>\n",
       "<table border=\"1\" class=\"dataframe\">\n",
       "  <thead>\n",
       "    <tr style=\"text-align: right;\">\n",
       "      <th></th>\n",
       "      <th>Description</th>\n",
       "      <th>Sales</th>\n",
       "    </tr>\n",
       "  </thead>\n",
       "  <tbody>\n",
       "    <tr>\n",
       "      <th>2762</th>\n",
       "      <td>REGENCY CAKESTAND 3 TIER</td>\n",
       "      <td>132870.40</td>\n",
       "    </tr>\n",
       "    <tr>\n",
       "      <th>3698</th>\n",
       "      <td>WHITE HANGING HEART T-LIGHT HOLDER</td>\n",
       "      <td>93823.85</td>\n",
       "    </tr>\n",
       "    <tr>\n",
       "      <th>1756</th>\n",
       "      <td>JUMBO BAG RED RETROSPOT</td>\n",
       "      <td>83236.76</td>\n",
       "    </tr>\n",
       "    <tr>\n",
       "      <th>2339</th>\n",
       "      <td>PARTY BUNTING</td>\n",
       "      <td>67687.53</td>\n",
       "    </tr>\n",
       "    <tr>\n",
       "      <th>207</th>\n",
       "      <td>ASSORTED COLOUR BIRD ORNAMENT</td>\n",
       "      <td>56499.22</td>\n",
       "    </tr>\n",
       "    <tr>\n",
       "      <th>2650</th>\n",
       "      <td>RABBIT NIGHT LIGHT</td>\n",
       "      <td>51137.80</td>\n",
       "    </tr>\n",
       "    <tr>\n",
       "      <th>713</th>\n",
       "      <td>CHILLI LIGHTS</td>\n",
       "      <td>45936.81</td>\n",
       "    </tr>\n",
       "    <tr>\n",
       "      <th>2308</th>\n",
       "      <td>PAPER CHAIN KIT 50'S CHRISTMAS</td>\n",
       "      <td>41500.48</td>\n",
       "    </tr>\n",
       "    <tr>\n",
       "      <th>2389</th>\n",
       "      <td>PICNIC BASKET WICKER 60 PIECES</td>\n",
       "      <td>39619.50</td>\n",
       "    </tr>\n",
       "    <tr>\n",
       "      <th>365</th>\n",
       "      <td>BLACK RECORD COVER FRAME</td>\n",
       "      <td>39009.38</td>\n",
       "    </tr>\n",
       "  </tbody>\n",
       "</table>\n",
       "</div>"
      ],
      "text/plain": [
       "                             Description      Sales\n",
       "2762            REGENCY CAKESTAND 3 TIER  132870.40\n",
       "3698  WHITE HANGING HEART T-LIGHT HOLDER   93823.85\n",
       "1756             JUMBO BAG RED RETROSPOT   83236.76\n",
       "2339                       PARTY BUNTING   67687.53\n",
       "207        ASSORTED COLOUR BIRD ORNAMENT   56499.22\n",
       "2650                  RABBIT NIGHT LIGHT   51137.80\n",
       "713                        CHILLI LIGHTS   45936.81\n",
       "2308      PAPER CHAIN KIT 50'S CHRISTMAS   41500.48\n",
       "2389      PICNIC BASKET WICKER 60 PIECES   39619.50\n",
       "365             BLACK RECORD COVER FRAME   39009.38"
      ]
     },
     "execution_count": 19,
     "metadata": {},
     "output_type": "execute_result"
    }
   ],
   "source": [
    "Top10products"
   ]
  },
  {
   "cell_type": "code",
   "execution_count": 20,
   "metadata": {},
   "outputs": [
    {
     "data": {
      "image/png": "[encoded data removed]",
      "text/plain": [
       "<Figure size 1440x432 with 1 Axes>"
      ]
     },
     "metadata": {
      "needs_background": "light"
     },
     "output_type": "display_data"
    }
   ],
   "source": [
    "Top10customer = df['CustomerID'].value_counts().sort_values(ascending=False).head(10)\n",
    "plt.figure(figsize=(20,6))\n",
    "plt.grid(False)\n",
    "X =Top10customer.index\n",
    "Y = Top10customer.values\n",
    "sns.barplot(X, \n",
    "            Y, \n",
    "            order=Top10customer.index)\n",
    "plt.ylabel(\"Counts\",Fontsize = 18)\n",
    "plt.xlabel(\"CustomerID\",Fontsize = 18)\n",
    "plt.xticks(fontsize=15)\n",
    "plt.yticks(fontsize=15)\n",
    "plt.title(\"Most Common Customer\",Fontsize = 18);"
   ]
  },
  {
   "cell_type": "code",
   "execution_count": 21,
   "metadata": {},
   "outputs": [
    {
     "data": {
      "image/png": "[encoded data removed]",
      "text/plain": [
       "<Figure size 1440x360 with 1 Axes>"
      ]
     },
     "metadata": {
      "needs_background": "light"
     },
     "output_type": "display_data"
    }
   ],
   "source": [
    "Top10country = df['Country'].value_counts().head(10)\n",
    "plt.figure(figsize=(20,5))\n",
    "X = Top10country.index\n",
    "Y = Top10country.values\n",
    "plots = sns.barplot(X, \n",
    "                    Y, \n",
    "            palette=\"Greens_r\")\n",
    "\n",
    "plt.ylabel(\"Counts\",Fontsize = 18)\n",
    "plt.xlabel(\"Countries\",Fontsize = 18)\n",
    "plt.grid(False)\n",
    "plt.xticks(fontsize=15)\n",
    "plt.yticks(fontsize=15)\n",
    "plt.title(\"Countries Made Most Transactions\",Fontsize = 18);\n",
    "plt.xticks(rotation=90, Fontsize = 18);\n",
    "plt.yscale(\"log\")"
   ]
  },
  {
   "cell_type": "code",
   "execution_count": 22,
   "metadata": {},
   "outputs": [
    {
     "data": {
      "text/plain": [
       "United Kingdom    361267\n",
       "Germany             9096\n",
       "France              8168\n",
       "EIRE                7380\n",
       "Spain               2468\n",
       "Netherlands         2330\n",
       "Belgium             1971\n",
       "Switzerland         1844\n",
       "Portugal            1436\n",
       "Australia           1257\n",
       "Name: Country, dtype: int64"
      ]
     },
     "execution_count": 22,
     "metadata": {},
     "output_type": "execute_result"
    }
   ],
   "source": [
    "Top10country"
   ]
  },
  {
   "cell_type": "code",
   "execution_count": 23,
   "metadata": {},
   "outputs": [],
   "source": [
    "df['Date']=df['InvoiceDate'].copy()"
   ]
  },
  {
   "cell_type": "code",
   "execution_count": 24,
   "metadata": {},
   "outputs": [
    {
     "data": {
      "text/html": [
       "<div>\n",
       "<style scoped>\n",
       "    .dataframe tbody tr th:only-of-type {\n",
       "        vertical-align: middle;\n",
       "    }\n",
       "\n",
       "    .dataframe tbody tr th {\n",
       "        vertical-align: top;\n",
       "    }\n",
       "\n",
       "    .dataframe thead th {\n",
       "        text-align: right;\n",
       "    }\n",
       "</style>\n",
       "<table border=\"1\" class=\"dataframe\">\n",
       "  <thead>\n",
       "    <tr style=\"text-align: right;\">\n",
       "      <th></th>\n",
       "      <th>InvoiceNo</th>\n",
       "      <th>StockCode</th>\n",
       "      <th>Description</th>\n",
       "      <th>Quantity</th>\n",
       "      <th>InvoiceDate</th>\n",
       "      <th>UnitPrice</th>\n",
       "      <th>CustomerID</th>\n",
       "      <th>Country</th>\n",
       "      <th>CancelledOrder</th>\n",
       "      <th>InternationalOrders</th>\n",
       "      <th>Sales</th>\n",
       "    </tr>\n",
       "    <tr>\n",
       "      <th>Date</th>\n",
       "      <th></th>\n",
       "      <th></th>\n",
       "      <th></th>\n",
       "      <th></th>\n",
       "      <th></th>\n",
       "      <th></th>\n",
       "      <th></th>\n",
       "      <th></th>\n",
       "      <th></th>\n",
       "      <th></th>\n",
       "      <th></th>\n",
       "    </tr>\n",
       "  </thead>\n",
       "  <tbody>\n",
       "    <tr>\n",
       "      <th>2010-12-01 08:26:00</th>\n",
       "      <td>0</td>\n",
       "      <td>85123A</td>\n",
       "      <td>WHITE HANGING HEART T-LIGHT HOLDER</td>\n",
       "      <td>6</td>\n",
       "      <td>2010-12-01 08:26:00</td>\n",
       "      <td>2.55</td>\n",
       "      <td>17850</td>\n",
       "      <td>United Kingdom</td>\n",
       "      <td>0</td>\n",
       "      <td>0</td>\n",
       "      <td>15.30</td>\n",
       "    </tr>\n",
       "    <tr>\n",
       "      <th>2010-12-01 08:26:00</th>\n",
       "      <td>0</td>\n",
       "      <td>71053</td>\n",
       "      <td>WHITE METAL LANTERN</td>\n",
       "      <td>6</td>\n",
       "      <td>2010-12-01 08:26:00</td>\n",
       "      <td>3.39</td>\n",
       "      <td>17850</td>\n",
       "      <td>United Kingdom</td>\n",
       "      <td>0</td>\n",
       "      <td>0</td>\n",
       "      <td>20.34</td>\n",
       "    </tr>\n",
       "    <tr>\n",
       "      <th>2010-12-01 08:26:00</th>\n",
       "      <td>0</td>\n",
       "      <td>84406B</td>\n",
       "      <td>CREAM CUPID HEARTS COAT HANGER</td>\n",
       "      <td>8</td>\n",
       "      <td>2010-12-01 08:26:00</td>\n",
       "      <td>2.75</td>\n",
       "      <td>17850</td>\n",
       "      <td>United Kingdom</td>\n",
       "      <td>0</td>\n",
       "      <td>0</td>\n",
       "      <td>22.00</td>\n",
       "    </tr>\n",
       "    <tr>\n",
       "      <th>2010-12-01 08:26:00</th>\n",
       "      <td>0</td>\n",
       "      <td>84029G</td>\n",
       "      <td>KNITTED UNION FLAG HOT WATER BOTTLE</td>\n",
       "      <td>6</td>\n",
       "      <td>2010-12-01 08:26:00</td>\n",
       "      <td>3.39</td>\n",
       "      <td>17850</td>\n",
       "      <td>United Kingdom</td>\n",
       "      <td>0</td>\n",
       "      <td>0</td>\n",
       "      <td>20.34</td>\n",
       "    </tr>\n",
       "    <tr>\n",
       "      <th>2010-12-01 08:26:00</th>\n",
       "      <td>0</td>\n",
       "      <td>84029E</td>\n",
       "      <td>RED WOOLLY HOTTIE WHITE HEART.</td>\n",
       "      <td>6</td>\n",
       "      <td>2010-12-01 08:26:00</td>\n",
       "      <td>3.39</td>\n",
       "      <td>17850</td>\n",
       "      <td>United Kingdom</td>\n",
       "      <td>0</td>\n",
       "      <td>0</td>\n",
       "      <td>20.34</td>\n",
       "    </tr>\n",
       "  </tbody>\n",
       "</table>\n",
       "</div>"
      ],
      "text/plain": [
       "                     InvoiceNo StockCode                          Description  \\\n",
       "Date                                                                            \n",
       "2010-12-01 08:26:00          0    85123A   WHITE HANGING HEART T-LIGHT HOLDER   \n",
       "2010-12-01 08:26:00          0     71053                  WHITE METAL LANTERN   \n",
       "2010-12-01 08:26:00          0    84406B       CREAM CUPID HEARTS COAT HANGER   \n",
       "2010-12-01 08:26:00          0    84029G  KNITTED UNION FLAG HOT WATER BOTTLE   \n",
       "2010-12-01 08:26:00          0    84029E       RED WOOLLY HOTTIE WHITE HEART.   \n",
       "\n",
       "                     Quantity         InvoiceDate  UnitPrice  CustomerID  \\\n",
       "Date                                                                       \n",
       "2010-12-01 08:26:00         6 2010-12-01 08:26:00       2.55       17850   \n",
       "2010-12-01 08:26:00         6 2010-12-01 08:26:00       3.39       17850   \n",
       "2010-12-01 08:26:00         8 2010-12-01 08:26:00       2.75       17850   \n",
       "2010-12-01 08:26:00         6 2010-12-01 08:26:00       3.39       17850   \n",
       "2010-12-01 08:26:00         6 2010-12-01 08:26:00       3.39       17850   \n",
       "\n",
       "                            Country  CancelledOrder  InternationalOrders  \\\n",
       "Date                                                                       \n",
       "2010-12-01 08:26:00  United Kingdom               0                    0   \n",
       "2010-12-01 08:26:00  United Kingdom               0                    0   \n",
       "2010-12-01 08:26:00  United Kingdom               0                    0   \n",
       "2010-12-01 08:26:00  United Kingdom               0                    0   \n",
       "2010-12-01 08:26:00  United Kingdom               0                    0   \n",
       "\n",
       "                     Sales  \n",
       "Date                        \n",
       "2010-12-01 08:26:00  15.30  \n",
       "2010-12-01 08:26:00  20.34  \n",
       "2010-12-01 08:26:00  22.00  \n",
       "2010-12-01 08:26:00  20.34  \n",
       "2010-12-01 08:26:00  20.34  "
      ]
     },
     "execution_count": 24,
     "metadata": {},
     "output_type": "execute_result"
    }
   ],
   "source": [
    "df['Date'] = pd.to_datetime(df['Date'], format='%m/%d/%Y %H:%M:%S',errors ='coerce')\n",
    "df.set_index('Date',inplace = True)\n",
    "df.sort_index(inplace=True)\n",
    "df.head()"
   ]
  },
  {
   "cell_type": "code",
   "execution_count": 25,
   "metadata": {},
   "outputs": [
    {
     "data": {
      "text/html": [
       "<div>\n",
       "<style scoped>\n",
       "    .dataframe tbody tr th:only-of-type {\n",
       "        vertical-align: middle;\n",
       "    }\n",
       "\n",
       "    .dataframe tbody tr th {\n",
       "        vertical-align: top;\n",
       "    }\n",
       "\n",
       "    .dataframe thead th {\n",
       "        text-align: right;\n",
       "    }\n",
       "</style>\n",
       "<table border=\"1\" class=\"dataframe\">\n",
       "  <thead>\n",
       "    <tr style=\"text-align: right;\">\n",
       "      <th></th>\n",
       "      <th>InvoiceNo</th>\n",
       "      <th>StockCode</th>\n",
       "      <th>Description</th>\n",
       "      <th>Quantity</th>\n",
       "      <th>InvoiceDate</th>\n",
       "      <th>UnitPrice</th>\n",
       "      <th>CustomerID</th>\n",
       "      <th>Country</th>\n",
       "      <th>CancelledOrder</th>\n",
       "      <th>InternationalOrders</th>\n",
       "      <th>Sales</th>\n",
       "      <th>weekday_name</th>\n",
       "    </tr>\n",
       "    <tr>\n",
       "      <th>Date</th>\n",
       "      <th></th>\n",
       "      <th></th>\n",
       "      <th></th>\n",
       "      <th></th>\n",
       "      <th></th>\n",
       "      <th></th>\n",
       "      <th></th>\n",
       "      <th></th>\n",
       "      <th></th>\n",
       "      <th></th>\n",
       "      <th></th>\n",
       "      <th></th>\n",
       "    </tr>\n",
       "  </thead>\n",
       "  <tbody>\n",
       "    <tr>\n",
       "      <th>2010-12-01 08:26:00</th>\n",
       "      <td>0</td>\n",
       "      <td>85123A</td>\n",
       "      <td>WHITE HANGING HEART T-LIGHT HOLDER</td>\n",
       "      <td>6</td>\n",
       "      <td>2010-12-01 08:26:00</td>\n",
       "      <td>2.55</td>\n",
       "      <td>17850</td>\n",
       "      <td>United Kingdom</td>\n",
       "      <td>0</td>\n",
       "      <td>0</td>\n",
       "      <td>15.30</td>\n",
       "      <td>Wed</td>\n",
       "    </tr>\n",
       "    <tr>\n",
       "      <th>2010-12-01 08:26:00</th>\n",
       "      <td>0</td>\n",
       "      <td>71053</td>\n",
       "      <td>WHITE METAL LANTERN</td>\n",
       "      <td>6</td>\n",
       "      <td>2010-12-01 08:26:00</td>\n",
       "      <td>3.39</td>\n",
       "      <td>17850</td>\n",
       "      <td>United Kingdom</td>\n",
       "      <td>0</td>\n",
       "      <td>0</td>\n",
       "      <td>20.34</td>\n",
       "      <td>Wed</td>\n",
       "    </tr>\n",
       "    <tr>\n",
       "      <th>2010-12-01 08:26:00</th>\n",
       "      <td>0</td>\n",
       "      <td>84406B</td>\n",
       "      <td>CREAM CUPID HEARTS COAT HANGER</td>\n",
       "      <td>8</td>\n",
       "      <td>2010-12-01 08:26:00</td>\n",
       "      <td>2.75</td>\n",
       "      <td>17850</td>\n",
       "      <td>United Kingdom</td>\n",
       "      <td>0</td>\n",
       "      <td>0</td>\n",
       "      <td>22.00</td>\n",
       "      <td>Wed</td>\n",
       "    </tr>\n",
       "    <tr>\n",
       "      <th>2010-12-01 08:26:00</th>\n",
       "      <td>0</td>\n",
       "      <td>84029G</td>\n",
       "      <td>KNITTED UNION FLAG HOT WATER BOTTLE</td>\n",
       "      <td>6</td>\n",
       "      <td>2010-12-01 08:26:00</td>\n",
       "      <td>3.39</td>\n",
       "      <td>17850</td>\n",
       "      <td>United Kingdom</td>\n",
       "      <td>0</td>\n",
       "      <td>0</td>\n",
       "      <td>20.34</td>\n",
       "      <td>Wed</td>\n",
       "    </tr>\n",
       "    <tr>\n",
       "      <th>2010-12-01 08:26:00</th>\n",
       "      <td>0</td>\n",
       "      <td>84029E</td>\n",
       "      <td>RED WOOLLY HOTTIE WHITE HEART.</td>\n",
       "      <td>6</td>\n",
       "      <td>2010-12-01 08:26:00</td>\n",
       "      <td>3.39</td>\n",
       "      <td>17850</td>\n",
       "      <td>United Kingdom</td>\n",
       "      <td>0</td>\n",
       "      <td>0</td>\n",
       "      <td>20.34</td>\n",
       "      <td>Wed</td>\n",
       "    </tr>\n",
       "  </tbody>\n",
       "</table>\n",
       "</div>"
      ],
      "text/plain": [
       "                     InvoiceNo StockCode                          Description  \\\n",
       "Date                                                                            \n",
       "2010-12-01 08:26:00          0    85123A   WHITE HANGING HEART T-LIGHT HOLDER   \n",
       "2010-12-01 08:26:00          0     71053                  WHITE METAL LANTERN   \n",
       "2010-12-01 08:26:00          0    84406B       CREAM CUPID HEARTS COAT HANGER   \n",
       "2010-12-01 08:26:00          0    84029G  KNITTED UNION FLAG HOT WATER BOTTLE   \n",
       "2010-12-01 08:26:00          0    84029E       RED WOOLLY HOTTIE WHITE HEART.   \n",
       "\n",
       "                     Quantity         InvoiceDate  UnitPrice  CustomerID  \\\n",
       "Date                                                                       \n",
       "2010-12-01 08:26:00         6 2010-12-01 08:26:00       2.55       17850   \n",
       "2010-12-01 08:26:00         6 2010-12-01 08:26:00       3.39       17850   \n",
       "2010-12-01 08:26:00         8 2010-12-01 08:26:00       2.75       17850   \n",
       "2010-12-01 08:26:00         6 2010-12-01 08:26:00       3.39       17850   \n",
       "2010-12-01 08:26:00         6 2010-12-01 08:26:00       3.39       17850   \n",
       "\n",
       "                            Country  CancelledOrder  InternationalOrders  \\\n",
       "Date                                                                       \n",
       "2010-12-01 08:26:00  United Kingdom               0                    0   \n",
       "2010-12-01 08:26:00  United Kingdom               0                    0   \n",
       "2010-12-01 08:26:00  United Kingdom               0                    0   \n",
       "2010-12-01 08:26:00  United Kingdom               0                    0   \n",
       "2010-12-01 08:26:00  United Kingdom               0                    0   \n",
       "\n",
       "                     Sales weekday_name  \n",
       "Date                                     \n",
       "2010-12-01 08:26:00  15.30          Wed  \n",
       "2010-12-01 08:26:00  20.34          Wed  \n",
       "2010-12-01 08:26:00  22.00          Wed  \n",
       "2010-12-01 08:26:00  20.34          Wed  \n",
       "2010-12-01 08:26:00  20.34          Wed  "
      ]
     },
     "execution_count": 25,
     "metadata": {},
     "output_type": "execute_result"
    }
   ],
   "source": [
    "df['weekday_name']=df.index.strftime('%a')\n",
    "df.head()"
   ]
  },
  {
   "cell_type": "code",
   "execution_count": 26,
   "metadata": {},
   "outputs": [
    {
     "data": {
      "text/html": [
       "<div>\n",
       "<style scoped>\n",
       "    .dataframe tbody tr th:only-of-type {\n",
       "        vertical-align: middle;\n",
       "    }\n",
       "\n",
       "    .dataframe tbody tr th {\n",
       "        vertical-align: top;\n",
       "    }\n",
       "\n",
       "    .dataframe thead th {\n",
       "        text-align: right;\n",
       "    }\n",
       "</style>\n",
       "<table border=\"1\" class=\"dataframe\">\n",
       "  <thead>\n",
       "    <tr style=\"text-align: right;\">\n",
       "      <th></th>\n",
       "      <th>InvoiceNo</th>\n",
       "      <th>StockCode</th>\n",
       "      <th>Description</th>\n",
       "      <th>Quantity</th>\n",
       "      <th>InvoiceDate</th>\n",
       "      <th>UnitPrice</th>\n",
       "      <th>CustomerID</th>\n",
       "      <th>Country</th>\n",
       "      <th>CancelledOrder</th>\n",
       "      <th>InternationalOrders</th>\n",
       "      <th>Sales</th>\n",
       "      <th>weekday_name</th>\n",
       "    </tr>\n",
       "    <tr>\n",
       "      <th>Date</th>\n",
       "      <th></th>\n",
       "      <th></th>\n",
       "      <th></th>\n",
       "      <th></th>\n",
       "      <th></th>\n",
       "      <th></th>\n",
       "      <th></th>\n",
       "      <th></th>\n",
       "      <th></th>\n",
       "      <th></th>\n",
       "      <th></th>\n",
       "      <th></th>\n",
       "    </tr>\n",
       "  </thead>\n",
       "  <tbody>\n",
       "    <tr>\n",
       "      <th>2010-12-05</th>\n",
       "      <td>7822</td>\n",
       "      <td>7822</td>\n",
       "      <td>7822</td>\n",
       "      <td>7822</td>\n",
       "      <td>7822</td>\n",
       "      <td>7822</td>\n",
       "      <td>7822</td>\n",
       "      <td>7822</td>\n",
       "      <td>7822</td>\n",
       "      <td>7822</td>\n",
       "      <td>7822</td>\n",
       "      <td>7822</td>\n",
       "    </tr>\n",
       "    <tr>\n",
       "      <th>2010-12-12</th>\n",
       "      <td>9811</td>\n",
       "      <td>9811</td>\n",
       "      <td>9811</td>\n",
       "      <td>9811</td>\n",
       "      <td>9811</td>\n",
       "      <td>9811</td>\n",
       "      <td>9811</td>\n",
       "      <td>9811</td>\n",
       "      <td>9811</td>\n",
       "      <td>9811</td>\n",
       "      <td>9811</td>\n",
       "      <td>9811</td>\n",
       "    </tr>\n",
       "    <tr>\n",
       "      <th>2010-12-19</th>\n",
       "      <td>7212</td>\n",
       "      <td>7212</td>\n",
       "      <td>7212</td>\n",
       "      <td>7212</td>\n",
       "      <td>7212</td>\n",
       "      <td>7212</td>\n",
       "      <td>7212</td>\n",
       "      <td>7212</td>\n",
       "      <td>7212</td>\n",
       "      <td>7212</td>\n",
       "      <td>7212</td>\n",
       "      <td>7212</td>\n",
       "    </tr>\n",
       "    <tr>\n",
       "      <th>2010-12-26</th>\n",
       "      <td>1890</td>\n",
       "      <td>1890</td>\n",
       "      <td>1890</td>\n",
       "      <td>1890</td>\n",
       "      <td>1890</td>\n",
       "      <td>1890</td>\n",
       "      <td>1890</td>\n",
       "      <td>1890</td>\n",
       "      <td>1890</td>\n",
       "      <td>1890</td>\n",
       "      <td>1890</td>\n",
       "      <td>1890</td>\n",
       "    </tr>\n",
       "    <tr>\n",
       "      <th>2011-01-02</th>\n",
       "      <td>0</td>\n",
       "      <td>0</td>\n",
       "      <td>0</td>\n",
       "      <td>0</td>\n",
       "      <td>0</td>\n",
       "      <td>0</td>\n",
       "      <td>0</td>\n",
       "      <td>0</td>\n",
       "      <td>0</td>\n",
       "      <td>0</td>\n",
       "      <td>0</td>\n",
       "      <td>0</td>\n",
       "    </tr>\n",
       "  </tbody>\n",
       "</table>\n",
       "</div>"
      ],
      "text/plain": [
       "            InvoiceNo  StockCode  Description  Quantity  InvoiceDate  \\\n",
       "Date                                                                   \n",
       "2010-12-05       7822       7822         7822      7822         7822   \n",
       "2010-12-12       9811       9811         9811      9811         9811   \n",
       "2010-12-19       7212       7212         7212      7212         7212   \n",
       "2010-12-26       1890       1890         1890      1890         1890   \n",
       "2011-01-02          0          0            0         0            0   \n",
       "\n",
       "            UnitPrice  CustomerID  Country  CancelledOrder  \\\n",
       "Date                                                         \n",
       "2010-12-05       7822        7822     7822            7822   \n",
       "2010-12-12       9811        9811     9811            9811   \n",
       "2010-12-19       7212        7212     7212            7212   \n",
       "2010-12-26       1890        1890     1890            1890   \n",
       "2011-01-02          0           0        0               0   \n",
       "\n",
       "            InternationalOrders  Sales  weekday_name  \n",
       "Date                                                  \n",
       "2010-12-05                 7822   7822          7822  \n",
       "2010-12-12                 9811   9811          9811  \n",
       "2010-12-19                 7212   7212          7212  \n",
       "2010-12-26                 1890   1890          1890  \n",
       "2011-01-02                    0      0             0  "
      ]
     },
     "execution_count": 26,
     "metadata": {},
     "output_type": "execute_result"
    }
   ],
   "source": [
    "Week_resample = df.resample('W').count()\n",
    "Week_resample.head()"
   ]
  },
  {
   "cell_type": "code",
   "execution_count": 27,
   "metadata": {},
   "outputs": [
    {
     "data": {
      "image/png": "[encoded data removed]",
      "text/plain": [
       "<Figure size 1152x576 with 1 Axes>"
      ]
     },
     "metadata": {
      "needs_background": "light"
     },
     "output_type": "display_data"
    }
   ],
   "source": [
    "plt.figure(figsize = (16, 8))\n",
    "Week_resample.Quantity.plot(color = 'green',marker = 'o',alpha = 0.6)\n",
    "plt.grid(False)\n",
    "plt.xlabel('Years_Week',fontsize=15)\n",
    "plt.ylabel('Counts', fontsize=15)\n",
    "plt.xticks(fontsize=15)\n",
    "plt.yticks(fontsize=15)\n",
    "plt.title('Weekly Counts of Orders', fontsize=15)\n",
    "plt.show()"
   ]
  },
  {
   "cell_type": "code",
   "execution_count": 28,
   "metadata": {},
   "outputs": [
    {
     "data": {
      "text/html": [
       "<div>\n",
       "<style scoped>\n",
       "    .dataframe tbody tr th:only-of-type {\n",
       "        vertical-align: middle;\n",
       "    }\n",
       "\n",
       "    .dataframe tbody tr th {\n",
       "        vertical-align: top;\n",
       "    }\n",
       "\n",
       "    .dataframe thead th {\n",
       "        text-align: right;\n",
       "    }\n",
       "</style>\n",
       "<table border=\"1\" class=\"dataframe\">\n",
       "  <thead>\n",
       "    <tr style=\"text-align: right;\">\n",
       "      <th></th>\n",
       "      <th>InvoiceNo</th>\n",
       "      <th>StockCode</th>\n",
       "      <th>Description</th>\n",
       "      <th>Quantity</th>\n",
       "      <th>InvoiceDate</th>\n",
       "      <th>UnitPrice</th>\n",
       "      <th>CustomerID</th>\n",
       "      <th>Country</th>\n",
       "      <th>CancelledOrder</th>\n",
       "      <th>InternationalOrders</th>\n",
       "      <th>Sales</th>\n",
       "      <th>weekday_name</th>\n",
       "    </tr>\n",
       "    <tr>\n",
       "      <th>Date</th>\n",
       "      <th></th>\n",
       "      <th></th>\n",
       "      <th></th>\n",
       "      <th></th>\n",
       "      <th></th>\n",
       "      <th></th>\n",
       "      <th></th>\n",
       "      <th></th>\n",
       "      <th></th>\n",
       "      <th></th>\n",
       "      <th></th>\n",
       "      <th></th>\n",
       "    </tr>\n",
       "  </thead>\n",
       "  <tbody>\n",
       "    <tr>\n",
       "      <th>2010-12-31</th>\n",
       "      <td>26735</td>\n",
       "      <td>26735</td>\n",
       "      <td>26735</td>\n",
       "      <td>26735</td>\n",
       "      <td>26735</td>\n",
       "      <td>26735</td>\n",
       "      <td>26735</td>\n",
       "      <td>26735</td>\n",
       "      <td>26735</td>\n",
       "      <td>26735</td>\n",
       "      <td>26735</td>\n",
       "      <td>26735</td>\n",
       "    </tr>\n",
       "    <tr>\n",
       "      <th>2011-01-31</th>\n",
       "      <td>21808</td>\n",
       "      <td>21808</td>\n",
       "      <td>21808</td>\n",
       "      <td>21808</td>\n",
       "      <td>21808</td>\n",
       "      <td>21808</td>\n",
       "      <td>21808</td>\n",
       "      <td>21808</td>\n",
       "      <td>21808</td>\n",
       "      <td>21808</td>\n",
       "      <td>21808</td>\n",
       "      <td>21808</td>\n",
       "    </tr>\n",
       "    <tr>\n",
       "      <th>2011-02-28</th>\n",
       "      <td>20266</td>\n",
       "      <td>20266</td>\n",
       "      <td>20266</td>\n",
       "      <td>20266</td>\n",
       "      <td>20266</td>\n",
       "      <td>20266</td>\n",
       "      <td>20266</td>\n",
       "      <td>20266</td>\n",
       "      <td>20266</td>\n",
       "      <td>20266</td>\n",
       "      <td>20266</td>\n",
       "      <td>20266</td>\n",
       "    </tr>\n",
       "    <tr>\n",
       "      <th>2011-03-31</th>\n",
       "      <td>27666</td>\n",
       "      <td>27666</td>\n",
       "      <td>27666</td>\n",
       "      <td>27666</td>\n",
       "      <td>27666</td>\n",
       "      <td>27666</td>\n",
       "      <td>27666</td>\n",
       "      <td>27666</td>\n",
       "      <td>27666</td>\n",
       "      <td>27666</td>\n",
       "      <td>27666</td>\n",
       "      <td>27666</td>\n",
       "    </tr>\n",
       "    <tr>\n",
       "      <th>2011-04-30</th>\n",
       "      <td>23087</td>\n",
       "      <td>23087</td>\n",
       "      <td>23087</td>\n",
       "      <td>23087</td>\n",
       "      <td>23087</td>\n",
       "      <td>23087</td>\n",
       "      <td>23087</td>\n",
       "      <td>23087</td>\n",
       "      <td>23087</td>\n",
       "      <td>23087</td>\n",
       "      <td>23087</td>\n",
       "      <td>23087</td>\n",
       "    </tr>\n",
       "  </tbody>\n",
       "</table>\n",
       "</div>"
      ],
      "text/plain": [
       "            InvoiceNo  StockCode  Description  Quantity  InvoiceDate  \\\n",
       "Date                                                                   \n",
       "2010-12-31      26735      26735        26735     26735        26735   \n",
       "2011-01-31      21808      21808        21808     21808        21808   \n",
       "2011-02-28      20266      20266        20266     20266        20266   \n",
       "2011-03-31      27666      27666        27666     27666        27666   \n",
       "2011-04-30      23087      23087        23087     23087        23087   \n",
       "\n",
       "            UnitPrice  CustomerID  Country  CancelledOrder  \\\n",
       "Date                                                         \n",
       "2010-12-31      26735       26735    26735           26735   \n",
       "2011-01-31      21808       21808    21808           21808   \n",
       "2011-02-28      20266       20266    20266           20266   \n",
       "2011-03-31      27666       27666    27666           27666   \n",
       "2011-04-30      23087       23087    23087           23087   \n",
       "\n",
       "            InternationalOrders  Sales  weekday_name  \n",
       "Date                                                  \n",
       "2010-12-31                26735  26735         26735  \n",
       "2011-01-31                21808  21808         21808  \n",
       "2011-02-28                20266  20266         20266  \n",
       "2011-03-31                27666  27666         27666  \n",
       "2011-04-30                23087  23087         23087  "
      ]
     },
     "execution_count": 28,
     "metadata": {},
     "output_type": "execute_result"
    }
   ],
   "source": [
    "Month_resample = df.resample('M').count()\n",
    "Month_resample.head()"
   ]
  },
  {
   "cell_type": "code",
   "execution_count": 29,
   "metadata": {},
   "outputs": [
    {
     "data": {
      "image/png": "[encoded data removed]",
      "text/plain": [
       "<Figure size 1152x576 with 1 Axes>"
      ]
     },
     "metadata": {
      "needs_background": "light"
     },
     "output_type": "display_data"
    }
   ],
   "source": [
    "plt.figure(figsize = (16, 8))\n",
    "Month_resample.Quantity.plot(color = 'blue',marker = 'o',alpha = 0.6)\n",
    "plt.xlabel('Years_Month',fontsize=15)\n",
    "plt.ylabel('Counts', fontsize=15)\n",
    "plt.grid(False)\n",
    "plt.xticks(fontsize=15)\n",
    "plt.yticks(fontsize=15)\n",
    "plt.title('Monthly Counts Of Orders', fontsize=15)\n",
    "plt.show()"
   ]
  },
  {
   "cell_type": "code",
   "execution_count": 30,
   "metadata": {},
   "outputs": [
    {
     "data": {
      "text/html": [
       "<div>\n",
       "<style scoped>\n",
       "    .dataframe tbody tr th:only-of-type {\n",
       "        vertical-align: middle;\n",
       "    }\n",
       "\n",
       "    .dataframe tbody tr th {\n",
       "        vertical-align: top;\n",
       "    }\n",
       "\n",
       "    .dataframe thead th {\n",
       "        text-align: right;\n",
       "    }\n",
       "</style>\n",
       "<table border=\"1\" class=\"dataframe\">\n",
       "  <thead>\n",
       "    <tr style=\"text-align: right;\">\n",
       "      <th></th>\n",
       "      <th>InvoiceNo</th>\n",
       "      <th>StockCode</th>\n",
       "      <th>Description</th>\n",
       "      <th>Quantity</th>\n",
       "      <th>InvoiceDate</th>\n",
       "      <th>UnitPrice</th>\n",
       "      <th>CustomerID</th>\n",
       "      <th>Country</th>\n",
       "      <th>CancelledOrder</th>\n",
       "      <th>InternationalOrders</th>\n",
       "      <th>Sales</th>\n",
       "      <th>weekday_name</th>\n",
       "    </tr>\n",
       "    <tr>\n",
       "      <th>Date</th>\n",
       "      <th></th>\n",
       "      <th></th>\n",
       "      <th></th>\n",
       "      <th></th>\n",
       "      <th></th>\n",
       "      <th></th>\n",
       "      <th></th>\n",
       "      <th></th>\n",
       "      <th></th>\n",
       "      <th></th>\n",
       "      <th></th>\n",
       "      <th></th>\n",
       "    </tr>\n",
       "  </thead>\n",
       "  <tbody>\n",
       "    <tr>\n",
       "      <th>2010-12-01</th>\n",
       "      <td>1961</td>\n",
       "      <td>1961</td>\n",
       "      <td>1961</td>\n",
       "      <td>1961</td>\n",
       "      <td>1961</td>\n",
       "      <td>1961</td>\n",
       "      <td>1961</td>\n",
       "      <td>1961</td>\n",
       "      <td>1961</td>\n",
       "      <td>1961</td>\n",
       "      <td>1961</td>\n",
       "      <td>1961</td>\n",
       "    </tr>\n",
       "    <tr>\n",
       "      <th>2010-12-02</th>\n",
       "      <td>2043</td>\n",
       "      <td>2043</td>\n",
       "      <td>2043</td>\n",
       "      <td>2043</td>\n",
       "      <td>2043</td>\n",
       "      <td>2043</td>\n",
       "      <td>2043</td>\n",
       "      <td>2043</td>\n",
       "      <td>2043</td>\n",
       "      <td>2043</td>\n",
       "      <td>2043</td>\n",
       "      <td>2043</td>\n",
       "    </tr>\n",
       "    <tr>\n",
       "      <th>2010-12-03</th>\n",
       "      <td>1107</td>\n",
       "      <td>1107</td>\n",
       "      <td>1107</td>\n",
       "      <td>1107</td>\n",
       "      <td>1107</td>\n",
       "      <td>1107</td>\n",
       "      <td>1107</td>\n",
       "      <td>1107</td>\n",
       "      <td>1107</td>\n",
       "      <td>1107</td>\n",
       "      <td>1107</td>\n",
       "      <td>1107</td>\n",
       "    </tr>\n",
       "    <tr>\n",
       "      <th>2010-12-04</th>\n",
       "      <td>0</td>\n",
       "      <td>0</td>\n",
       "      <td>0</td>\n",
       "      <td>0</td>\n",
       "      <td>0</td>\n",
       "      <td>0</td>\n",
       "      <td>0</td>\n",
       "      <td>0</td>\n",
       "      <td>0</td>\n",
       "      <td>0</td>\n",
       "      <td>0</td>\n",
       "      <td>0</td>\n",
       "    </tr>\n",
       "    <tr>\n",
       "      <th>2010-12-05</th>\n",
       "      <td>2711</td>\n",
       "      <td>2711</td>\n",
       "      <td>2711</td>\n",
       "      <td>2711</td>\n",
       "      <td>2711</td>\n",
       "      <td>2711</td>\n",
       "      <td>2711</td>\n",
       "      <td>2711</td>\n",
       "      <td>2711</td>\n",
       "      <td>2711</td>\n",
       "      <td>2711</td>\n",
       "      <td>2711</td>\n",
       "    </tr>\n",
       "  </tbody>\n",
       "</table>\n",
       "</div>"
      ],
      "text/plain": [
       "            InvoiceNo  StockCode  Description  Quantity  InvoiceDate  \\\n",
       "Date                                                                   \n",
       "2010-12-01       1961       1961         1961      1961         1961   \n",
       "2010-12-02       2043       2043         2043      2043         2043   \n",
       "2010-12-03       1107       1107         1107      1107         1107   \n",
       "2010-12-04          0          0            0         0            0   \n",
       "2010-12-05       2711       2711         2711      2711         2711   \n",
       "\n",
       "            UnitPrice  CustomerID  Country  CancelledOrder  \\\n",
       "Date                                                         \n",
       "2010-12-01       1961        1961     1961            1961   \n",
       "2010-12-02       2043        2043     2043            2043   \n",
       "2010-12-03       1107        1107     1107            1107   \n",
       "2010-12-04          0           0        0               0   \n",
       "2010-12-05       2711        2711     2711            2711   \n",
       "\n",
       "            InternationalOrders  Sales  weekday_name  \n",
       "Date                                                  \n",
       "2010-12-01                 1961   1961          1961  \n",
       "2010-12-02                 2043   2043          2043  \n",
       "2010-12-03                 1107   1107          1107  \n",
       "2010-12-04                    0      0             0  \n",
       "2010-12-05                 2711   2711          2711  "
      ]
     },
     "execution_count": 30,
     "metadata": {},
     "output_type": "execute_result"
    }
   ],
   "source": [
    "Day_resample = df.resample('D').count()\n",
    "Day_resample.head()"
   ]
  },
  {
   "cell_type": "code",
   "execution_count": 31,
   "metadata": {},
   "outputs": [
    {
     "data": {
      "image/png": "[encoded data removed]",
      "text/plain": [
       "<Figure size 1152x576 with 1 Axes>"
      ]
     },
     "metadata": {
      "needs_background": "light"
     },
     "output_type": "display_data"
    }
   ],
   "source": [
    "plt.figure(figsize = (16, 8))\n",
    "Day_resample.Quantity.plot(color = 'blue',marker = 'o',alpha = 0.6)\n",
    "plt.xlabel('Years_Month',fontsize=15)\n",
    "plt.ylabel('Counts', fontsize=15)\n",
    "plt.grid(False)\n",
    "plt.xticks(fontsize=15)\n",
    "plt.yticks(fontsize=15)\n",
    "plt.title('Days Counts Of Orders', fontsize=15)\n",
    "plt.show()"
   ]
  },
  {
   "cell_type": "code",
   "execution_count": 32,
   "metadata": {},
   "outputs": [],
   "source": [
    "df.reset_index(drop = True,inplace = True)"
   ]
  },
  {
   "cell_type": "code",
   "execution_count": 33,
   "metadata": {},
   "outputs": [
    {
     "data": {
      "text/plain": [
       "0   2010-12-01 08:26:00\n",
       "1   2010-12-01 08:26:00\n",
       "2   2010-12-01 08:26:00\n",
       "3   2010-12-01 08:26:00\n",
       "4   2010-12-01 08:26:00\n",
       "Name: InvoiceDate, dtype: datetime64[ns]"
      ]
     },
     "execution_count": 33,
     "metadata": {},
     "output_type": "execute_result"
    }
   ],
   "source": [
    "# Convert InvoiceDate to datetime objec\n",
    "df['InvoiceDate'] = pd.to_datetime(df['InvoiceDate'])\n",
    "df['InvoiceDate'].head()"
   ]
  },
  {
   "cell_type": "code",
   "execution_count": 34,
   "metadata": {},
   "outputs": [],
   "source": [
    "df['InvoiceDate'] = df['InvoiceDate'].dt.date"
   ]
  },
  {
   "cell_type": "code",
   "execution_count": 35,
   "metadata": {},
   "outputs": [],
   "source": [
    "df.drop(['InvoiceNo', 'CustomerID','Country','InternationalOrders','Description','CancelledOrder','UnitPrice'],\n",
    "            axis=1,inplace=True)"
   ]
  },
  {
   "cell_type": "code",
   "execution_count": 36,
   "metadata": {},
   "outputs": [],
   "source": [
    "df['year'] = pd.DatetimeIndex(df['InvoiceDate']).year\n",
    "df['Month'] = pd.DatetimeIndex(df['InvoiceDate']).month\n",
    "df['Quarter'] = pd.DatetimeIndex(df['InvoiceDate']).quarter\n",
    "df['Week'] = pd.DatetimeIndex(df['InvoiceDate']).week\n",
    "df['Weekday'] = pd.DatetimeIndex(df['InvoiceDate']).weekday\n",
    "df['Day'] = pd.DatetimeIndex(df['InvoiceDate']).day\n",
    "df['Dayofyear'] = pd.DatetimeIndex(df['InvoiceDate']).dayofyear\n",
    "df['UnitPrice'] = df['Sales']/df['Quantity']\n"
   ]
  },
  {
   "cell_type": "code",
   "execution_count": 37,
   "metadata": {},
   "outputs": [
    {
     "data": {
      "text/html": [
       "<div>\n",
       "<style scoped>\n",
       "    .dataframe tbody tr th:only-of-type {\n",
       "        vertical-align: middle;\n",
       "    }\n",
       "\n",
       "    .dataframe tbody tr th {\n",
       "        vertical-align: top;\n",
       "    }\n",
       "\n",
       "    .dataframe thead th {\n",
       "        text-align: right;\n",
       "    }\n",
       "</style>\n",
       "<table border=\"1\" class=\"dataframe\">\n",
       "  <thead>\n",
       "    <tr style=\"text-align: right;\">\n",
       "      <th></th>\n",
       "      <th>StockCode</th>\n",
       "      <th>Quantity</th>\n",
       "      <th>InvoiceDate</th>\n",
       "      <th>Sales</th>\n",
       "      <th>weekday_name</th>\n",
       "      <th>year</th>\n",
       "      <th>Month</th>\n",
       "      <th>Quarter</th>\n",
       "      <th>Week</th>\n",
       "      <th>Weekday</th>\n",
       "      <th>Day</th>\n",
       "      <th>Dayofyear</th>\n",
       "      <th>UnitPrice</th>\n",
       "    </tr>\n",
       "  </thead>\n",
       "  <tbody>\n",
       "    <tr>\n",
       "      <th>0</th>\n",
       "      <td>85123A</td>\n",
       "      <td>6</td>\n",
       "      <td>2010-12-01</td>\n",
       "      <td>15.30</td>\n",
       "      <td>Wed</td>\n",
       "      <td>2010</td>\n",
       "      <td>12</td>\n",
       "      <td>4</td>\n",
       "      <td>48</td>\n",
       "      <td>2</td>\n",
       "      <td>1</td>\n",
       "      <td>335</td>\n",
       "      <td>2.55</td>\n",
       "    </tr>\n",
       "    <tr>\n",
       "      <th>1</th>\n",
       "      <td>71053</td>\n",
       "      <td>6</td>\n",
       "      <td>2010-12-01</td>\n",
       "      <td>20.34</td>\n",
       "      <td>Wed</td>\n",
       "      <td>2010</td>\n",
       "      <td>12</td>\n",
       "      <td>4</td>\n",
       "      <td>48</td>\n",
       "      <td>2</td>\n",
       "      <td>1</td>\n",
       "      <td>335</td>\n",
       "      <td>3.39</td>\n",
       "    </tr>\n",
       "    <tr>\n",
       "      <th>2</th>\n",
       "      <td>84406B</td>\n",
       "      <td>8</td>\n",
       "      <td>2010-12-01</td>\n",
       "      <td>22.00</td>\n",
       "      <td>Wed</td>\n",
       "      <td>2010</td>\n",
       "      <td>12</td>\n",
       "      <td>4</td>\n",
       "      <td>48</td>\n",
       "      <td>2</td>\n",
       "      <td>1</td>\n",
       "      <td>335</td>\n",
       "      <td>2.75</td>\n",
       "    </tr>\n",
       "    <tr>\n",
       "      <th>3</th>\n",
       "      <td>84029G</td>\n",
       "      <td>6</td>\n",
       "      <td>2010-12-01</td>\n",
       "      <td>20.34</td>\n",
       "      <td>Wed</td>\n",
       "      <td>2010</td>\n",
       "      <td>12</td>\n",
       "      <td>4</td>\n",
       "      <td>48</td>\n",
       "      <td>2</td>\n",
       "      <td>1</td>\n",
       "      <td>335</td>\n",
       "      <td>3.39</td>\n",
       "    </tr>\n",
       "    <tr>\n",
       "      <th>4</th>\n",
       "      <td>84029E</td>\n",
       "      <td>6</td>\n",
       "      <td>2010-12-01</td>\n",
       "      <td>20.34</td>\n",
       "      <td>Wed</td>\n",
       "      <td>2010</td>\n",
       "      <td>12</td>\n",
       "      <td>4</td>\n",
       "      <td>48</td>\n",
       "      <td>2</td>\n",
       "      <td>1</td>\n",
       "      <td>335</td>\n",
       "      <td>3.39</td>\n",
       "    </tr>\n",
       "  </tbody>\n",
       "</table>\n",
       "</div>"
      ],
      "text/plain": [
       "  StockCode  Quantity InvoiceDate  Sales weekday_name  year  Month  Quarter  \\\n",
       "0    85123A         6  2010-12-01  15.30          Wed  2010     12        4   \n",
       "1     71053         6  2010-12-01  20.34          Wed  2010     12        4   \n",
       "2    84406B         8  2010-12-01  22.00          Wed  2010     12        4   \n",
       "3    84029G         6  2010-12-01  20.34          Wed  2010     12        4   \n",
       "4    84029E         6  2010-12-01  20.34          Wed  2010     12        4   \n",
       "\n",
       "   Week  Weekday  Day  Dayofyear  UnitPrice  \n",
       "0    48        2    1        335       2.55  \n",
       "1    48        2    1        335       3.39  \n",
       "2    48        2    1        335       2.75  \n",
       "3    48        2    1        335       3.39  \n",
       "4    48        2    1        335       3.39  "
      ]
     },
     "execution_count": 37,
     "metadata": {},
     "output_type": "execute_result"
    }
   ],
   "source": [
    "df.head()"
   ]
  },
  {
   "cell_type": "code",
   "execution_count": 38,
   "metadata": {},
   "outputs": [],
   "source": [
    "# Drop rows with negative Quantity\n",
    "from scipy import stats\n",
    "df = df.drop(df[df.Quantity<=0].index).reset_index(drop=True)\n",
    "df = df.drop(df[df.Sales<=0].index).reset_index(drop=True)\n",
    "\n",
    "#Removing outliers \n",
    "df = df[(np.abs(stats.zscore(df['Quantity'])) < 3)]\n",
    "df = df[(np.abs(stats.zscore(df['Sales'])) < 3)]"
   ]
  },
  {
   "cell_type": "code",
   "execution_count": 39,
   "metadata": {
    "scrolled": true
   },
   "outputs": [
    {
     "data": {
      "text/html": [
       "<div>\n",
       "<style scoped>\n",
       "    .dataframe tbody tr th:only-of-type {\n",
       "        vertical-align: middle;\n",
       "    }\n",
       "\n",
       "    .dataframe tbody tr th {\n",
       "        vertical-align: top;\n",
       "    }\n",
       "\n",
       "    .dataframe thead th {\n",
       "        text-align: right;\n",
       "    }\n",
       "</style>\n",
       "<table border=\"1\" class=\"dataframe\">\n",
       "  <thead>\n",
       "    <tr style=\"text-align: right;\">\n",
       "      <th></th>\n",
       "      <th>Quantity</th>\n",
       "      <th>Sales</th>\n",
       "      <th>year</th>\n",
       "      <th>Month</th>\n",
       "      <th>Quarter</th>\n",
       "      <th>Week</th>\n",
       "      <th>Weekday</th>\n",
       "      <th>Day</th>\n",
       "      <th>Dayofyear</th>\n",
       "      <th>UnitPrice</th>\n",
       "    </tr>\n",
       "  </thead>\n",
       "  <tbody>\n",
       "    <tr>\n",
       "      <th>count</th>\n",
       "      <td>393815.000000</td>\n",
       "      <td>393815.000000</td>\n",
       "      <td>393815.000000</td>\n",
       "      <td>393815.000000</td>\n",
       "      <td>393815.000000</td>\n",
       "      <td>393815.000000</td>\n",
       "      <td>393815.000000</td>\n",
       "      <td>393815.000000</td>\n",
       "      <td>393815.000000</td>\n",
       "      <td>393815.000000</td>\n",
       "    </tr>\n",
       "    <tr>\n",
       "      <th>mean</th>\n",
       "      <td>10.817567</td>\n",
       "      <td>17.719122</td>\n",
       "      <td>2010.934175</td>\n",
       "      <td>7.614669</td>\n",
       "      <td>2.856826</td>\n",
       "      <td>30.973772</td>\n",
       "      <td>2.617686</td>\n",
       "      <td>15.044132</td>\n",
       "      <td>215.499915</td>\n",
       "      <td>2.847335</td>\n",
       "    </tr>\n",
       "    <tr>\n",
       "      <th>std</th>\n",
       "      <td>21.229162</td>\n",
       "      <td>26.139898</td>\n",
       "      <td>0.247977</td>\n",
       "      <td>3.417132</td>\n",
       "      <td>1.121970</td>\n",
       "      <td>14.758586</td>\n",
       "      <td>1.931095</td>\n",
       "      <td>8.655063</td>\n",
       "      <td>103.423112</td>\n",
       "      <td>3.677151</td>\n",
       "    </tr>\n",
       "    <tr>\n",
       "      <th>min</th>\n",
       "      <td>1.000000</td>\n",
       "      <td>0.001000</td>\n",
       "      <td>2010.000000</td>\n",
       "      <td>1.000000</td>\n",
       "      <td>1.000000</td>\n",
       "      <td>1.000000</td>\n",
       "      <td>0.000000</td>\n",
       "      <td>1.000000</td>\n",
       "      <td>4.000000</td>\n",
       "      <td>0.001000</td>\n",
       "    </tr>\n",
       "    <tr>\n",
       "      <th>25%</th>\n",
       "      <td>2.000000</td>\n",
       "      <td>4.680000</td>\n",
       "      <td>2011.000000</td>\n",
       "      <td>5.000000</td>\n",
       "      <td>2.000000</td>\n",
       "      <td>19.000000</td>\n",
       "      <td>1.000000</td>\n",
       "      <td>7.000000</td>\n",
       "      <td>130.000000</td>\n",
       "      <td>1.250000</td>\n",
       "    </tr>\n",
       "    <tr>\n",
       "      <th>50%</th>\n",
       "      <td>5.000000</td>\n",
       "      <td>11.700000</td>\n",
       "      <td>2011.000000</td>\n",
       "      <td>8.000000</td>\n",
       "      <td>3.000000</td>\n",
       "      <td>34.000000</td>\n",
       "      <td>2.000000</td>\n",
       "      <td>15.000000</td>\n",
       "      <td>240.000000</td>\n",
       "      <td>1.850000</td>\n",
       "    </tr>\n",
       "    <tr>\n",
       "      <th>75%</th>\n",
       "      <td>12.000000</td>\n",
       "      <td>19.500000</td>\n",
       "      <td>2011.000000</td>\n",
       "      <td>11.000000</td>\n",
       "      <td>4.000000</td>\n",
       "      <td>44.000000</td>\n",
       "      <td>4.000000</td>\n",
       "      <td>22.000000</td>\n",
       "      <td>310.000000</td>\n",
       "      <td>3.750000</td>\n",
       "    </tr>\n",
       "    <tr>\n",
       "      <th>max</th>\n",
       "      <td>504.000000</td>\n",
       "      <td>266.400000</td>\n",
       "      <td>2011.000000</td>\n",
       "      <td>12.000000</td>\n",
       "      <td>4.000000</td>\n",
       "      <td>51.000000</td>\n",
       "      <td>6.000000</td>\n",
       "      <td>31.000000</td>\n",
       "      <td>357.000000</td>\n",
       "      <td>195.000000</td>\n",
       "    </tr>\n",
       "  </tbody>\n",
       "</table>\n",
       "</div>"
      ],
      "text/plain": [
       "            Quantity          Sales           year          Month  \\\n",
       "count  393815.000000  393815.000000  393815.000000  393815.000000   \n",
       "mean       10.817567      17.719122    2010.934175       7.614669   \n",
       "std        21.229162      26.139898       0.247977       3.417132   \n",
       "min         1.000000       0.001000    2010.000000       1.000000   \n",
       "25%         2.000000       4.680000    2011.000000       5.000000   \n",
       "50%         5.000000      11.700000    2011.000000       8.000000   \n",
       "75%        12.000000      19.500000    2011.000000      11.000000   \n",
       "max       504.000000     266.400000    2011.000000      12.000000   \n",
       "\n",
       "             Quarter           Week        Weekday            Day  \\\n",
       "count  393815.000000  393815.000000  393815.000000  393815.000000   \n",
       "mean        2.856826      30.973772       2.617686      15.044132   \n",
       "std         1.121970      14.758586       1.931095       8.655063   \n",
       "min         1.000000       1.000000       0.000000       1.000000   \n",
       "25%         2.000000      19.000000       1.000000       7.000000   \n",
       "50%         3.000000      34.000000       2.000000      15.000000   \n",
       "75%         4.000000      44.000000       4.000000      22.000000   \n",
       "max         4.000000      51.000000       6.000000      31.000000   \n",
       "\n",
       "           Dayofyear      UnitPrice  \n",
       "count  393815.000000  393815.000000  \n",
       "mean      215.499915       2.847335  \n",
       "std       103.423112       3.677151  \n",
       "min         4.000000       0.001000  \n",
       "25%       130.000000       1.250000  \n",
       "50%       240.000000       1.850000  \n",
       "75%       310.000000       3.750000  \n",
       "max       357.000000     195.000000  "
      ]
     },
     "execution_count": 39,
     "metadata": {},
     "output_type": "execute_result"
    }
   ],
   "source": [
    "df.describe()"
   ]
  },
  {
   "cell_type": "code",
   "execution_count": 40,
   "metadata": {},
   "outputs": [
    {
     "data": {
      "text/plain": [
       "<matplotlib.axes._subplots.AxesSubplot at 0x263de32cee0>"
      ]
     },
     "execution_count": 40,
     "metadata": {},
     "output_type": "execute_result"
    },
    {
     "data": {
      "image/png": "[encoded data removed]",
      "text/plain": [
       "<Figure size 1080x864 with 2 Axes>"
      ]
     },
     "metadata": {
      "needs_background": "light"
     },
     "output_type": "display_data"
    }
   ],
   "source": [
    "# correlation heatmap\n",
    "fig, ax = plt.subplots(figsize=(15,12))\n",
    "analysis_data_corr = df.corr(method='pearson')\n",
    "sns.heatmap(analysis_data_corr,\n",
    "            cmap=\"mako\",\n",
    "            annot=True, \n",
    "            linewidths=.5,\n",
    "            vmin=-1,\n",
    "            vmax=1,\n",
    "            center=0)"
   ]
  },
  {
   "cell_type": "code",
   "execution_count": 41,
   "metadata": {},
   "outputs": [],
   "source": [
    "df.drop(['Month', 'Quarter','Dayofyear','year'], axis=1,inplace=True)"
   ]
  },
  {
   "cell_type": "markdown",
   "metadata": {},
   "source": [
    "## Modelling"
   ]
  },
  {
   "cell_type": "code",
   "execution_count": 42,
   "metadata": {},
   "outputs": [],
   "source": [
    "import datetime\n",
    "      \n",
    "startdate = datetime.datetime.strptime('2011-11-01', \"%Y-%m-%d\").date()\n",
    "enddate = datetime.datetime.strptime('2011-11-01', \"%Y-%m-%d\").date()"
   ]
  },
  {
   "cell_type": "code",
   "execution_count": 43,
   "metadata": {},
   "outputs": [],
   "source": [
    "# Split the dataset into train and test dataset\n",
    "\n",
    "df_train = df[df['InvoiceDate']<startdate]\n",
    "df_test = df[df['InvoiceDate'] >= enddate]"
   ]
  },
  {
   "cell_type": "code",
   "execution_count": 44,
   "metadata": {},
   "outputs": [
    {
     "data": {
      "text/plain": [
       "(312655, 9)"
      ]
     },
     "execution_count": 44,
     "metadata": {},
     "output_type": "execute_result"
    }
   ],
   "source": [
    "df_train.shape"
   ]
  },
  {
   "cell_type": "code",
   "execution_count": 45,
   "metadata": {},
   "outputs": [
    {
     "data": {
      "text/plain": [
       "(81160, 9)"
      ]
     },
     "execution_count": 45,
     "metadata": {},
     "output_type": "execute_result"
    }
   ],
   "source": [
    "df_test.shape"
   ]
  },
  {
   "cell_type": "code",
   "execution_count": 46,
   "metadata": {},
   "outputs": [
    {
     "data": {
      "text/html": [
       "<div>\n",
       "<style scoped>\n",
       "    .dataframe tbody tr th:only-of-type {\n",
       "        vertical-align: middle;\n",
       "    }\n",
       "\n",
       "    .dataframe tbody tr th {\n",
       "        vertical-align: top;\n",
       "    }\n",
       "\n",
       "    .dataframe thead th {\n",
       "        text-align: right;\n",
       "    }\n",
       "</style>\n",
       "<table border=\"1\" class=\"dataframe\">\n",
       "  <thead>\n",
       "    <tr style=\"text-align: right;\">\n",
       "      <th></th>\n",
       "      <th>StockCode</th>\n",
       "      <th>Quantity</th>\n",
       "      <th>InvoiceDate</th>\n",
       "      <th>Sales</th>\n",
       "      <th>weekday_name</th>\n",
       "      <th>Week</th>\n",
       "      <th>Weekday</th>\n",
       "      <th>Day</th>\n",
       "      <th>UnitPrice</th>\n",
       "    </tr>\n",
       "  </thead>\n",
       "  <tbody>\n",
       "    <tr>\n",
       "      <th>0</th>\n",
       "      <td>85123A</td>\n",
       "      <td>6</td>\n",
       "      <td>2010-12-01</td>\n",
       "      <td>15.30</td>\n",
       "      <td>Wed</td>\n",
       "      <td>48</td>\n",
       "      <td>2</td>\n",
       "      <td>1</td>\n",
       "      <td>2.55</td>\n",
       "    </tr>\n",
       "    <tr>\n",
       "      <th>1</th>\n",
       "      <td>71053</td>\n",
       "      <td>6</td>\n",
       "      <td>2010-12-01</td>\n",
       "      <td>20.34</td>\n",
       "      <td>Wed</td>\n",
       "      <td>48</td>\n",
       "      <td>2</td>\n",
       "      <td>1</td>\n",
       "      <td>3.39</td>\n",
       "    </tr>\n",
       "    <tr>\n",
       "      <th>2</th>\n",
       "      <td>84406B</td>\n",
       "      <td>8</td>\n",
       "      <td>2010-12-01</td>\n",
       "      <td>22.00</td>\n",
       "      <td>Wed</td>\n",
       "      <td>48</td>\n",
       "      <td>2</td>\n",
       "      <td>1</td>\n",
       "      <td>2.75</td>\n",
       "    </tr>\n",
       "    <tr>\n",
       "      <th>3</th>\n",
       "      <td>84029G</td>\n",
       "      <td>6</td>\n",
       "      <td>2010-12-01</td>\n",
       "      <td>20.34</td>\n",
       "      <td>Wed</td>\n",
       "      <td>48</td>\n",
       "      <td>2</td>\n",
       "      <td>1</td>\n",
       "      <td>3.39</td>\n",
       "    </tr>\n",
       "    <tr>\n",
       "      <th>4</th>\n",
       "      <td>84029E</td>\n",
       "      <td>6</td>\n",
       "      <td>2010-12-01</td>\n",
       "      <td>20.34</td>\n",
       "      <td>Wed</td>\n",
       "      <td>48</td>\n",
       "      <td>2</td>\n",
       "      <td>1</td>\n",
       "      <td>3.39</td>\n",
       "    </tr>\n",
       "  </tbody>\n",
       "</table>\n",
       "</div>"
      ],
      "text/plain": [
       "  StockCode  Quantity InvoiceDate  Sales weekday_name  Week  Weekday  Day  \\\n",
       "0    85123A         6  2010-12-01  15.30          Wed    48        2    1   \n",
       "1     71053         6  2010-12-01  20.34          Wed    48        2    1   \n",
       "2    84406B         8  2010-12-01  22.00          Wed    48        2    1   \n",
       "3    84029G         6  2010-12-01  20.34          Wed    48        2    1   \n",
       "4    84029E         6  2010-12-01  20.34          Wed    48        2    1   \n",
       "\n",
       "   UnitPrice  \n",
       "0       2.55  \n",
       "1       3.39  \n",
       "2       2.75  \n",
       "3       3.39  \n",
       "4       3.39  "
      ]
     },
     "execution_count": 46,
     "metadata": {},
     "output_type": "execute_result"
    }
   ],
   "source": [
    "df_train.head()"
   ]
  },
  {
   "cell_type": "code",
   "execution_count": 47,
   "metadata": {},
   "outputs": [],
   "source": [
    "X_train = df_train.drop(labels=['InvoiceDate','StockCode','Quantity','Sales','weekday_name'],axis=1)\n",
    "y_train = df_train.Quantity\n",
    "\n",
    "X_test = df_test.drop(labels=['InvoiceDate','StockCode','Quantity','Sales','weekday_name'],axis=1)\n",
    "y_test = df_test.Quantity"
   ]
  },
  {
   "cell_type": "code",
   "execution_count": 48,
   "metadata": {},
   "outputs": [
    {
     "data": {
      "text/plain": [
       "Index(['Week', 'Weekday', 'Day', 'UnitPrice'], dtype='object')"
      ]
     },
     "execution_count": 48,
     "metadata": {},
     "output_type": "execute_result"
    }
   ],
   "source": [
    "X_train.keys()"
   ]
  },
  {
   "cell_type": "code",
   "execution_count": 49,
   "metadata": {},
   "outputs": [
    {
     "data": {
      "text/plain": [
       "Index(['Week', 'Weekday', 'Day', 'UnitPrice'], dtype='object')"
      ]
     },
     "execution_count": 49,
     "metadata": {},
     "output_type": "execute_result"
    }
   ],
   "source": [
    "X_test.keys()"
   ]
  },
  {
   "cell_type": "code",
   "execution_count": 50,
   "metadata": {},
   "outputs": [],
   "source": [
    "score = pd.DataFrame()\n",
    "score.index.name = 'Scoring'\n",
    "score['Training+Test Time(sec)'] = None\n",
    "time_Frame = []\n",
    "\n"
   ]
  },
  {
   "cell_type": "markdown",
   "metadata": {},
   "source": [
    "## Linear Regression"
   ]
  },
  {
   "cell_type": "code",
   "execution_count": 51,
   "metadata": {},
   "outputs": [
    {
     "name": "stdout",
     "output_type": "stream",
     "text": [
      "Wall time: 52.8 ms\n",
      "Train RMSE: 21.544938827015688\n",
      "Wall time: 13 ms\n",
      "Test RMSE: 18.09467122182692\n"
     ]
    }
   ],
   "source": [
    "reg = LinearRegression()\n",
    "lr = reg.fit(X_train, y_train)\n",
    "%time reg.fit(X_train, y_train)\n",
    "pred_train_lr= lr.predict(X_train)\n",
    "\n",
    "print(\"Train RMSE:\",np.sqrt(mean_squared_error(y_train,pred_train_lr)))\n",
    "\n",
    "%time reg.fit(X_test, y_test)\n",
    "pred_test_lr= lr.predict(X_test)\n",
    "print(\"Test RMSE:\",np.sqrt(mean_squared_error(y_test,pred_test_lr))) \n"
   ]
  },
  {
   "cell_type": "code",
   "execution_count": 52,
   "metadata": {},
   "outputs": [
    {
     "data": {
      "text/html": [
       "<div>\n",
       "<style scoped>\n",
       "    .dataframe tbody tr th:only-of-type {\n",
       "        vertical-align: middle;\n",
       "    }\n",
       "\n",
       "    .dataframe tbody tr th {\n",
       "        vertical-align: top;\n",
       "    }\n",
       "\n",
       "    .dataframe thead th {\n",
       "        text-align: right;\n",
       "    }\n",
       "</style>\n",
       "<table border=\"1\" class=\"dataframe\">\n",
       "  <thead>\n",
       "    <tr style=\"text-align: right;\">\n",
       "      <th></th>\n",
       "      <th>Training+Test Time(sec)</th>\n",
       "    </tr>\n",
       "    <tr>\n",
       "      <th>Scoring</th>\n",
       "      <th></th>\n",
       "    </tr>\n",
       "  </thead>\n",
       "  <tbody>\n",
       "    <tr>\n",
       "      <th>Linear Regression</th>\n",
       "      <td>0.804</td>\n",
       "    </tr>\n",
       "  </tbody>\n",
       "</table>\n",
       "</div>"
      ],
      "text/plain": [
       "                   Training+Test Time(sec)\n",
       "Scoring                                   \n",
       "Linear Regression                    0.804"
      ]
     },
     "execution_count": 52,
     "metadata": {},
     "output_type": "execute_result"
    }
   ],
   "source": [
    "score.loc['Linear Regression'] = 0.804\n",
    "time_Frame.append(0.804)\n",
    "score"
   ]
  },
  {
   "cell_type": "markdown",
   "metadata": {},
   "source": [
    "## Ridge Regression"
   ]
  },
  {
   "cell_type": "code",
   "execution_count": 53,
   "metadata": {},
   "outputs": [
    {
     "name": "stdout",
     "output_type": "stream",
     "text": [
      "Wall time: 33.9 ms\n",
      "Wall time: 15 ms\n",
      " Train RMSE:  21.594879480946418\n",
      "Test RMSE: 18.09467122182692\n"
     ]
    }
   ],
   "source": [
    "from sklearn.linear_model import Ridge\n",
    "rr = Ridge(alpha=0.01)\n",
    "%time rr.fit(X_train, y_train) \n",
    "%time rr.fit(X_test,y_test)\n",
    "\n",
    "pred_train_rr= rr.predict(X_train)\n",
    "print(\" Train RMSE: \",np.sqrt(mean_squared_error(y_train,pred_train_rr)))\n",
    "\n",
    "pred_test_rr= rr.predict(X_test)\n",
    "print(\"Test RMSE:\",np.sqrt(mean_squared_error(y_test,pred_test_rr))) \n"
   ]
  },
  {
   "cell_type": "code",
   "execution_count": 54,
   "metadata": {},
   "outputs": [
    {
     "data": {
      "text/html": [
       "<div>\n",
       "<style scoped>\n",
       "    .dataframe tbody tr th:only-of-type {\n",
       "        vertical-align: middle;\n",
       "    }\n",
       "\n",
       "    .dataframe tbody tr th {\n",
       "        vertical-align: top;\n",
       "    }\n",
       "\n",
       "    .dataframe thead th {\n",
       "        text-align: right;\n",
       "    }\n",
       "</style>\n",
       "<table border=\"1\" class=\"dataframe\">\n",
       "  <thead>\n",
       "    <tr style=\"text-align: right;\">\n",
       "      <th></th>\n",
       "      <th>Training+Test Time(sec)</th>\n",
       "    </tr>\n",
       "    <tr>\n",
       "      <th>Scoring</th>\n",
       "      <th></th>\n",
       "    </tr>\n",
       "  </thead>\n",
       "  <tbody>\n",
       "    <tr>\n",
       "      <th>Linear Regression</th>\n",
       "      <td>0.804</td>\n",
       "    </tr>\n",
       "    <tr>\n",
       "      <th>Ridge Regression</th>\n",
       "      <td>0.532</td>\n",
       "    </tr>\n",
       "  </tbody>\n",
       "</table>\n",
       "</div>"
      ],
      "text/plain": [
       "                   Training+Test Time(sec)\n",
       "Scoring                                   \n",
       "Linear Regression                    0.804\n",
       "Ridge Regression                     0.532"
      ]
     },
     "execution_count": 54,
     "metadata": {},
     "output_type": "execute_result"
    }
   ],
   "source": [
    "score.loc['Ridge Regression'] = 0.532\n",
    "time_Frame.append(0.532)\n",
    "score"
   ]
  },
  {
   "cell_type": "markdown",
   "metadata": {},
   "source": [
    "# Lasso Regression"
   ]
  },
  {
   "cell_type": "code",
   "execution_count": 55,
   "metadata": {},
   "outputs": [
    {
     "name": "stdout",
     "output_type": "stream",
     "text": [
      "Wall time: 55.8 ms\n",
      "Wall time: 24.9 ms\n",
      " Train RMSE: 21.597256174888194\n",
      "Test RSME: 18.094674085192526\n"
     ]
    }
   ],
   "source": [
    "from sklearn.linear_model import Lasso\n",
    "model_lasso = Lasso(alpha=0.01)\n",
    "%time model_lasso.fit(X_train, y_train) \n",
    "%time model_lasso.fit(X_test, y_test) \n",
    "pred_train_lasso= model_lasso.predict(X_train)\n",
    "print(\" Train RMSE:\",np.sqrt(mean_squared_error(y_train,pred_train_lasso)))\n",
    "\n",
    "\n",
    "pred_test_lasso= model_lasso.predict(X_test)\n",
    "print(\"Test RSME:\",np.sqrt(mean_squared_error(y_test,pred_test_lasso))) "
   ]
  },
  {
   "cell_type": "code",
   "execution_count": 56,
   "metadata": {},
   "outputs": [
    {
     "data": {
      "text/html": [
       "<div>\n",
       "<style scoped>\n",
       "    .dataframe tbody tr th:only-of-type {\n",
       "        vertical-align: middle;\n",
       "    }\n",
       "\n",
       "    .dataframe tbody tr th {\n",
       "        vertical-align: top;\n",
       "    }\n",
       "\n",
       "    .dataframe thead th {\n",
       "        text-align: right;\n",
       "    }\n",
       "</style>\n",
       "<table border=\"1\" class=\"dataframe\">\n",
       "  <thead>\n",
       "    <tr style=\"text-align: right;\">\n",
       "      <th></th>\n",
       "      <th>Training+Test Time(sec)</th>\n",
       "    </tr>\n",
       "    <tr>\n",
       "      <th>Scoring</th>\n",
       "      <th></th>\n",
       "    </tr>\n",
       "  </thead>\n",
       "  <tbody>\n",
       "    <tr>\n",
       "      <th>Linear Regression</th>\n",
       "      <td>0.804</td>\n",
       "    </tr>\n",
       "    <tr>\n",
       "      <th>Ridge Regression</th>\n",
       "      <td>0.532</td>\n",
       "    </tr>\n",
       "    <tr>\n",
       "      <th>Lasso Regression</th>\n",
       "      <td>0.843</td>\n",
       "    </tr>\n",
       "  </tbody>\n",
       "</table>\n",
       "</div>"
      ],
      "text/plain": [
       "                   Training+Test Time(sec)\n",
       "Scoring                                   \n",
       "Linear Regression                    0.804\n",
       "Ridge Regression                     0.532\n",
       "Lasso Regression                     0.843"
      ]
     },
     "execution_count": 56,
     "metadata": {},
     "output_type": "execute_result"
    }
   ],
   "source": [
    "score.loc['Lasso Regression'] =0.843\n",
    "time_Frame.append(0.843)\n",
    "score"
   ]
  },
  {
   "cell_type": "markdown",
   "metadata": {},
   "source": [
    "### Random  Forest"
   ]
  },
  {
   "cell_type": "code",
   "execution_count": 57,
   "metadata": {},
   "outputs": [
    {
     "name": "stdout",
     "output_type": "stream",
     "text": [
      "Wall time: 31.1 s\n",
      "Wall time: 4.3 s\n",
      "Train RSME : 18.80988939180469\n",
      "Test RSME : 13.879575489077013\n"
     ]
    }
   ],
   "source": [
    "from sklearn.ensemble import RandomForestRegressor\n",
    "regressor = RandomForestRegressor(n_estimators = 50, random_state = 0)\n",
    "%time regressor.fit(X_train, y_train)\n",
    "%time regressor.fit(X_test, y_test)\n",
    "y_pred_train = regressor.predict(X_train)\n",
    "print('Train RSME :', np.sqrt(mean_squared_error(y_train, y_pred_train)))\n",
    "\n",
    "\n",
    "y_pred_test = regressor.predict(X_test)\n",
    "print('Test RSME :', np.sqrt(mean_squared_error(y_test, y_pred_test)))"
   ]
  },
  {
   "cell_type": "code",
   "execution_count": 58,
   "metadata": {},
   "outputs": [
    {
     "data": {
      "text/html": [
       "<div>\n",
       "<style scoped>\n",
       "    .dataframe tbody tr th:only-of-type {\n",
       "        vertical-align: middle;\n",
       "    }\n",
       "\n",
       "    .dataframe tbody tr th {\n",
       "        vertical-align: top;\n",
       "    }\n",
       "\n",
       "    .dataframe thead th {\n",
       "        text-align: right;\n",
       "    }\n",
       "</style>\n",
       "<table border=\"1\" class=\"dataframe\">\n",
       "  <thead>\n",
       "    <tr style=\"text-align: right;\">\n",
       "      <th></th>\n",
       "      <th>Training+Test Time(sec)</th>\n",
       "    </tr>\n",
       "    <tr>\n",
       "      <th>Scoring</th>\n",
       "      <th></th>\n",
       "    </tr>\n",
       "  </thead>\n",
       "  <tbody>\n",
       "    <tr>\n",
       "      <th>Linear Regression</th>\n",
       "      <td>0.8040</td>\n",
       "    </tr>\n",
       "    <tr>\n",
       "      <th>Ridge Regression</th>\n",
       "      <td>0.5320</td>\n",
       "    </tr>\n",
       "    <tr>\n",
       "      <th>Lasso Regression</th>\n",
       "      <td>0.8430</td>\n",
       "    </tr>\n",
       "    <tr>\n",
       "      <th>Random Forest</th>\n",
       "      <td>0.3817</td>\n",
       "    </tr>\n",
       "  </tbody>\n",
       "</table>\n",
       "</div>"
      ],
      "text/plain": [
       "                   Training+Test Time(sec)\n",
       "Scoring                                   \n",
       "Linear Regression                   0.8040\n",
       "Ridge Regression                    0.5320\n",
       "Lasso Regression                    0.8430\n",
       "Random Forest                       0.3817"
      ]
     },
     "execution_count": 58,
     "metadata": {},
     "output_type": "execute_result"
    }
   ],
   "source": [
    "score.loc['Random Forest'] = 0.3817\n",
    "time_Frame.append(0.381)\n",
    "score"
   ]
  },
  {
   "cell_type": "code",
   "execution_count": 60,
   "metadata": {},
   "outputs": [
    {
     "data": {
      "image/png": "[encoded data removed]",
      "text/plain": [
       "<Figure size 720x432 with 1 Axes>"
      ]
     },
     "metadata": {
      "needs_background": "light"
     },
     "output_type": "display_data"
    }
   ],
   "source": [
    "fig=plt.figure(figsize=(10, 6))\n",
    "#axes=fig.add_subplot(1, 1, 1)\n",
    "labels = score.index\n",
    "plt.bar(data=score, height='Training+Test Time(sec)', \n",
    "        x=np.array(range(score.shape[0])), \n",
    "        width=0.6)\n",
    "\n",
    "plt.xticks(np.array(range(score.shape[0])), labels, rotation=90,fontsize = 15)\n",
    "plt.xlabel('Models',fontsize = 15)\n",
    "plt.ylabel('Training+Test Time(sec)',fontsize = 15)\n",
    "plt.title('Time Taken to Fit the Models',fontsize = 15)\n",
    "plt.show()"
   ]
  },
  {
   "cell_type": "code",
   "execution_count": null,
   "metadata": {},
   "outputs": [],
   "source": []
  }
 ],
 "metadata": {
  "kernelspec": {
   "display_name": "Python 3",
   "language": "python",
   "name": "python3"
  },
  "language_info": {
   "codemirror_mode": {
    "name": "ipython",
    "version": 3
   },
   "file_extension": ".py",
   "mimetype": "text/x-python",
   "name": "python",
   "nbconvert_exporter": "python",
   "pygments_lexer": "ipython3",
   "version": "3.8.3"
  }
 },
 "nbformat": 4,
 "nbformat_minor": 4
}
